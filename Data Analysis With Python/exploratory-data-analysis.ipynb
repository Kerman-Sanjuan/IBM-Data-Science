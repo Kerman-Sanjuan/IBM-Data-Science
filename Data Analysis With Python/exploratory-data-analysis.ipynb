{
 "cells": [
  {
   "cell_type": "markdown",
   "metadata": {},
   "source": [
    "<div class=\"alert alert-block alert-info\" style=\"margin-top: 20px\">\n",
    "    <a href=\"https://cocl.us/corsera_da0101en_notebook_top\">\n",
    "         <img src=\"https://s3-api.us-geo.objectstorage.softlayer.net/cf-courses-data/CognitiveClass/DA0101EN/Images/TopAd.png\" width=\"750\" align=\"center\">\n",
    "    </a>\n",
    "</div>\n"
   ]
  },
  {
   "cell_type": "markdown",
   "metadata": {},
   "source": [
    "<a href=\"https://www.bigdatauniversity.com\"><img src = \"https://s3-api.us-geo.objectstorage.softlayer.net/cf-courses-data/CognitiveClass/DA0101EN/Images/CCLog.png\" width = 300, align = \"center\"></a>\n",
    "\n",
    "<h1 align=center><font size = 5>Data Analysis with Python</font></h1>"
   ]
  },
  {
   "cell_type": "markdown",
   "metadata": {},
   "source": [
    "Exploratory Data Analysis"
   ]
  },
  {
   "cell_type": "markdown",
   "metadata": {},
   "source": [
    "<h3>Welcome!</h3>\n",
    "In this section, we will explore several methods to see if certain characteristics or features can be used to predict car price. "
   ]
  },
  {
   "cell_type": "markdown",
   "metadata": {},
   "source": [
    "<h2>Table of content</h2>\n",
    "\n",
    "<div class=\"alert alert-block alert-info\" style=\"margin-top: 20px\">\n",
    "<ol>\n",
    "    <li><a href=\"#import_data\">Import Data from Module</a></li>\n",
    "    <li><a href=\"#pattern_visualization\">Analyzing Individual Feature Patterns using Visualization</a></li>\n",
    "    <li><a href=\"#discriptive_statistics\">Descriptive Statistical Analysis</a></li>\n",
    "    <li><a href=\"#basic_grouping\">Basics of Grouping</a></li>\n",
    "    <li><a href=\"#correlation_causation\">Correlation and Causation</a></li>\n",
    "    <li><a href=\"#anova\">ANOVA</a></li>\n",
    "</ol>\n",
    "    \n",
    "Estimated Time Needed: <strong>30 min</strong>\n",
    "</div>\n",
    " \n",
    "<hr>"
   ]
  },
  {
   "cell_type": "markdown",
   "metadata": {},
   "source": [
    "<h3>What are the main characteristics which have the most impact on the car price?</h3>"
   ]
  },
  {
   "cell_type": "markdown",
   "metadata": {},
   "source": [
    "<h2 id=\"import_data\">1. Import Data from Module 2</h2>"
   ]
  },
  {
   "cell_type": "markdown",
   "metadata": {},
   "source": [
    "<h4>Setup</h4>"
   ]
  },
  {
   "cell_type": "markdown",
   "metadata": {},
   "source": [
    " Import libraries "
   ]
  },
  {
   "cell_type": "code",
<<<<<<< HEAD
   "execution_count": 1,
   "metadata": {},
=======
   "execution_count": null,
   "metadata": {
    "collapsed": true
   },
>>>>>>> d6b5bd050ed7ba736b15c35bb74c4476035c8c84
   "outputs": [],
   "source": [
    "import pandas as pd\n",
    "import numpy as np"
   ]
  },
  {
   "cell_type": "markdown",
   "metadata": {},
   "source": [
    " load data and store in dataframe df:"
   ]
  },
  {
   "cell_type": "markdown",
   "metadata": {},
   "source": [
    "This dataset was hosted on IBM Cloud object click <a href=\"https://cocl.us/DA101EN_object_storage\">HERE</a> for free storage"
   ]
  },
  {
   "cell_type": "code",
<<<<<<< HEAD
   "execution_count": 2,
   "metadata": {},
   "outputs": [
    {
     "data": {
      "text/html": [
       "<div>\n",
       "<style scoped>\n",
       "    .dataframe tbody tr th:only-of-type {\n",
       "        vertical-align: middle;\n",
       "    }\n",
       "\n",
       "    .dataframe tbody tr th {\n",
       "        vertical-align: top;\n",
       "    }\n",
       "\n",
       "    .dataframe thead th {\n",
       "        text-align: right;\n",
       "    }\n",
       "</style>\n",
       "<table border=\"1\" class=\"dataframe\">\n",
       "  <thead>\n",
       "    <tr style=\"text-align: right;\">\n",
       "      <th></th>\n",
       "      <th>symboling</th>\n",
       "      <th>normalized-losses</th>\n",
       "      <th>make</th>\n",
       "      <th>aspiration</th>\n",
       "      <th>num-of-doors</th>\n",
       "      <th>body-style</th>\n",
       "      <th>drive-wheels</th>\n",
       "      <th>engine-location</th>\n",
       "      <th>wheel-base</th>\n",
       "      <th>length</th>\n",
       "      <th>...</th>\n",
       "      <th>compression-ratio</th>\n",
       "      <th>horsepower</th>\n",
       "      <th>peak-rpm</th>\n",
       "      <th>city-mpg</th>\n",
       "      <th>highway-mpg</th>\n",
       "      <th>price</th>\n",
       "      <th>city-L/100km</th>\n",
       "      <th>horsepower-binned</th>\n",
       "      <th>diesel</th>\n",
       "      <th>gas</th>\n",
       "    </tr>\n",
       "  </thead>\n",
       "  <tbody>\n",
       "    <tr>\n",
       "      <th>0</th>\n",
       "      <td>3</td>\n",
       "      <td>122</td>\n",
       "      <td>alfa-romero</td>\n",
       "      <td>std</td>\n",
       "      <td>two</td>\n",
       "      <td>convertible</td>\n",
       "      <td>rwd</td>\n",
       "      <td>front</td>\n",
       "      <td>88.6</td>\n",
       "      <td>0.811148</td>\n",
       "      <td>...</td>\n",
       "      <td>9.0</td>\n",
       "      <td>111.0</td>\n",
       "      <td>5000.0</td>\n",
       "      <td>21</td>\n",
       "      <td>27</td>\n",
       "      <td>13495.0</td>\n",
       "      <td>11.190476</td>\n",
       "      <td>Medium</td>\n",
       "      <td>0</td>\n",
       "      <td>1</td>\n",
       "    </tr>\n",
       "    <tr>\n",
       "      <th>1</th>\n",
       "      <td>3</td>\n",
       "      <td>122</td>\n",
       "      <td>alfa-romero</td>\n",
       "      <td>std</td>\n",
       "      <td>two</td>\n",
       "      <td>convertible</td>\n",
       "      <td>rwd</td>\n",
       "      <td>front</td>\n",
       "      <td>88.6</td>\n",
       "      <td>0.811148</td>\n",
       "      <td>...</td>\n",
       "      <td>9.0</td>\n",
       "      <td>111.0</td>\n",
       "      <td>5000.0</td>\n",
       "      <td>21</td>\n",
       "      <td>27</td>\n",
       "      <td>16500.0</td>\n",
       "      <td>11.190476</td>\n",
       "      <td>Medium</td>\n",
       "      <td>0</td>\n",
       "      <td>1</td>\n",
       "    </tr>\n",
       "    <tr>\n",
       "      <th>2</th>\n",
       "      <td>1</td>\n",
       "      <td>122</td>\n",
       "      <td>alfa-romero</td>\n",
       "      <td>std</td>\n",
       "      <td>two</td>\n",
       "      <td>hatchback</td>\n",
       "      <td>rwd</td>\n",
       "      <td>front</td>\n",
       "      <td>94.5</td>\n",
       "      <td>0.822681</td>\n",
       "      <td>...</td>\n",
       "      <td>9.0</td>\n",
       "      <td>154.0</td>\n",
       "      <td>5000.0</td>\n",
       "      <td>19</td>\n",
       "      <td>26</td>\n",
       "      <td>16500.0</td>\n",
       "      <td>12.368421</td>\n",
       "      <td>Medium</td>\n",
       "      <td>0</td>\n",
       "      <td>1</td>\n",
       "    </tr>\n",
       "    <tr>\n",
       "      <th>3</th>\n",
       "      <td>2</td>\n",
       "      <td>164</td>\n",
       "      <td>audi</td>\n",
       "      <td>std</td>\n",
       "      <td>four</td>\n",
       "      <td>sedan</td>\n",
       "      <td>fwd</td>\n",
       "      <td>front</td>\n",
       "      <td>99.8</td>\n",
       "      <td>0.848630</td>\n",
       "      <td>...</td>\n",
       "      <td>10.0</td>\n",
       "      <td>102.0</td>\n",
       "      <td>5500.0</td>\n",
       "      <td>24</td>\n",
       "      <td>30</td>\n",
       "      <td>13950.0</td>\n",
       "      <td>9.791667</td>\n",
       "      <td>Medium</td>\n",
       "      <td>0</td>\n",
       "      <td>1</td>\n",
       "    </tr>\n",
       "    <tr>\n",
       "      <th>4</th>\n",
       "      <td>2</td>\n",
       "      <td>164</td>\n",
       "      <td>audi</td>\n",
       "      <td>std</td>\n",
       "      <td>four</td>\n",
       "      <td>sedan</td>\n",
       "      <td>4wd</td>\n",
       "      <td>front</td>\n",
       "      <td>99.4</td>\n",
       "      <td>0.848630</td>\n",
       "      <td>...</td>\n",
       "      <td>8.0</td>\n",
       "      <td>115.0</td>\n",
       "      <td>5500.0</td>\n",
       "      <td>18</td>\n",
       "      <td>22</td>\n",
       "      <td>17450.0</td>\n",
       "      <td>13.055556</td>\n",
       "      <td>Medium</td>\n",
       "      <td>0</td>\n",
       "      <td>1</td>\n",
       "    </tr>\n",
       "  </tbody>\n",
       "</table>\n",
       "<p>5 rows × 29 columns</p>\n",
       "</div>"
      ],
      "text/plain": [
       "   symboling  normalized-losses         make aspiration num-of-doors  \\\n",
       "0          3                122  alfa-romero        std          two   \n",
       "1          3                122  alfa-romero        std          two   \n",
       "2          1                122  alfa-romero        std          two   \n",
       "3          2                164         audi        std         four   \n",
       "4          2                164         audi        std         four   \n",
       "\n",
       "    body-style drive-wheels engine-location  wheel-base    length  ...  \\\n",
       "0  convertible          rwd           front        88.6  0.811148  ...   \n",
       "1  convertible          rwd           front        88.6  0.811148  ...   \n",
       "2    hatchback          rwd           front        94.5  0.822681  ...   \n",
       "3        sedan          fwd           front        99.8  0.848630  ...   \n",
       "4        sedan          4wd           front        99.4  0.848630  ...   \n",
       "\n",
       "   compression-ratio  horsepower  peak-rpm city-mpg highway-mpg    price  \\\n",
       "0                9.0       111.0    5000.0       21          27  13495.0   \n",
       "1                9.0       111.0    5000.0       21          27  16500.0   \n",
       "2                9.0       154.0    5000.0       19          26  16500.0   \n",
       "3               10.0       102.0    5500.0       24          30  13950.0   \n",
       "4                8.0       115.0    5500.0       18          22  17450.0   \n",
       "\n",
       "  city-L/100km  horsepower-binned  diesel  gas  \n",
       "0    11.190476             Medium       0    1  \n",
       "1    11.190476             Medium       0    1  \n",
       "2    12.368421             Medium       0    1  \n",
       "3     9.791667             Medium       0    1  \n",
       "4    13.055556             Medium       0    1  \n",
       "\n",
       "[5 rows x 29 columns]"
      ]
     },
     "execution_count": 2,
     "metadata": {},
     "output_type": "execute_result"
    }
   ],
=======
   "execution_count": null,
   "metadata": {
    "collapsed": false
   },
   "outputs": [],
>>>>>>> d6b5bd050ed7ba736b15c35bb74c4476035c8c84
   "source": [
    "path='https://s3-api.us-geo.objectstorage.softlayer.net/cf-courses-data/CognitiveClass/DA0101EN/automobileEDA.csv'\n",
    "df = pd.read_csv(path)\n",
    "df.head()"
   ]
  },
  {
   "cell_type": "markdown",
   "metadata": {},
   "source": [
    "<h2 id=\"pattern_visualization\">2. Analyzing Individual Feature Patterns using Visualization</h2>"
   ]
  },
  {
   "cell_type": "markdown",
   "metadata": {},
   "source": [
    "To install seaborn we use the pip which is the python package manager."
   ]
  },
  {
   "cell_type": "code",
<<<<<<< HEAD
   "execution_count": 3,
=======
   "execution_count": null,
>>>>>>> d6b5bd050ed7ba736b15c35bb74c4476035c8c84
   "metadata": {},
   "outputs": [],
   "source": [
    "%%capture\n",
    "! pip install seaborn"
   ]
  },
  {
   "cell_type": "markdown",
   "metadata": {},
   "source": [
    " Import visualization packages \"Matplotlib\" and \"Seaborn\", don't forget about \"%matplotlib inline\" to plot in a Jupyter notebook."
   ]
  },
  {
   "cell_type": "code",
<<<<<<< HEAD
   "execution_count": 4,
   "metadata": {},
=======
   "execution_count": null,
   "metadata": {
    "collapsed": false
   },
>>>>>>> d6b5bd050ed7ba736b15c35bb74c4476035c8c84
   "outputs": [],
   "source": [
    "import matplotlib.pyplot as plt\n",
    "import seaborn as sns\n",
    "%matplotlib inline "
   ]
  },
  {
   "cell_type": "markdown",
   "metadata": {},
   "source": [
    "<h4>How to choose the right visualization method?</h4>\n",
    "<p>When visualizing individual variables, it is important to first understand what type of variable you are dealing with. This will help us find the right visualization method for that variable.</p>\n"
   ]
  },
  {
   "cell_type": "code",
<<<<<<< HEAD
   "execution_count": 5,
   "metadata": {},
   "outputs": [
    {
     "name": "stdout",
     "output_type": "stream",
     "text": [
      "symboling              int64\n",
      "normalized-losses      int64\n",
      "make                  object\n",
      "aspiration            object\n",
      "num-of-doors          object\n",
      "body-style            object\n",
      "drive-wheels          object\n",
      "engine-location       object\n",
      "wheel-base           float64\n",
      "length               float64\n",
      "width                float64\n",
      "height               float64\n",
      "curb-weight            int64\n",
      "engine-type           object\n",
      "num-of-cylinders      object\n",
      "engine-size            int64\n",
      "fuel-system           object\n",
      "bore                 float64\n",
      "stroke               float64\n",
      "compression-ratio    float64\n",
      "horsepower           float64\n",
      "peak-rpm             float64\n",
      "city-mpg               int64\n",
      "highway-mpg            int64\n",
      "price                float64\n",
      "city-L/100km         float64\n",
      "horsepower-binned     object\n",
      "diesel                 int64\n",
      "gas                    int64\n",
      "dtype: object\n"
     ]
    }
   ],
=======
   "execution_count": null,
   "metadata": {
    "collapsed": false
   },
   "outputs": [],
>>>>>>> d6b5bd050ed7ba736b15c35bb74c4476035c8c84
   "source": [
    "# list the data types for each column\n",
    "print(df.dtypes)"
   ]
  },
  {
   "cell_type": "markdown",
   "metadata": {},
   "source": [
    "<div class=\"alert alert-danger alertdanger\" style=\"margin-top: 20px\">\n",
    "<h3>Question  #1:</h3>\n",
    "\n",
    "<b>What is the data type of the column \"peak-rpm\"? </b>\n",
    "</div>"
   ]
  },
  {
   "cell_type": "markdown",
   "metadata": {},
   "source": [
    "Double-click <b>here</b> for the solution.\n",
    "\n",
    "<!-- The answer is below:\n",
    "\n",
    "float64\n",
    "\n",
    "-->"
   ]
  },
  {
   "cell_type": "markdown",
   "metadata": {},
   "source": [
    "for example, we can calculate the correlation between variables  of type \"int64\" or \"float64\" using the method \"corr\":"
   ]
  },
  {
   "cell_type": "code",
<<<<<<< HEAD
   "execution_count": 6,
   "metadata": {},
   "outputs": [
    {
     "data": {
      "text/html": [
       "<div>\n",
       "<style scoped>\n",
       "    .dataframe tbody tr th:only-of-type {\n",
       "        vertical-align: middle;\n",
       "    }\n",
       "\n",
       "    .dataframe tbody tr th {\n",
       "        vertical-align: top;\n",
       "    }\n",
       "\n",
       "    .dataframe thead th {\n",
       "        text-align: right;\n",
       "    }\n",
       "</style>\n",
       "<table border=\"1\" class=\"dataframe\">\n",
       "  <thead>\n",
       "    <tr style=\"text-align: right;\">\n",
       "      <th></th>\n",
       "      <th>symboling</th>\n",
       "      <th>normalized-losses</th>\n",
       "      <th>wheel-base</th>\n",
       "      <th>length</th>\n",
       "      <th>width</th>\n",
       "      <th>height</th>\n",
       "      <th>curb-weight</th>\n",
       "      <th>engine-size</th>\n",
       "      <th>bore</th>\n",
       "      <th>stroke</th>\n",
       "      <th>compression-ratio</th>\n",
       "      <th>horsepower</th>\n",
       "      <th>peak-rpm</th>\n",
       "      <th>city-mpg</th>\n",
       "      <th>highway-mpg</th>\n",
       "      <th>price</th>\n",
       "      <th>city-L/100km</th>\n",
       "      <th>diesel</th>\n",
       "      <th>gas</th>\n",
       "    </tr>\n",
       "  </thead>\n",
       "  <tbody>\n",
       "    <tr>\n",
       "      <th>symboling</th>\n",
       "      <td>1.000000</td>\n",
       "      <td>0.466264</td>\n",
       "      <td>-0.535987</td>\n",
       "      <td>-0.365404</td>\n",
       "      <td>-0.242423</td>\n",
       "      <td>-0.550160</td>\n",
       "      <td>-0.233118</td>\n",
       "      <td>-0.110581</td>\n",
       "      <td>-0.140019</td>\n",
       "      <td>-0.008245</td>\n",
       "      <td>-0.182196</td>\n",
       "      <td>0.075819</td>\n",
       "      <td>0.279740</td>\n",
       "      <td>-0.035527</td>\n",
       "      <td>0.036233</td>\n",
       "      <td>-0.082391</td>\n",
       "      <td>0.066171</td>\n",
       "      <td>-0.196735</td>\n",
       "      <td>0.196735</td>\n",
       "    </tr>\n",
       "    <tr>\n",
       "      <th>normalized-losses</th>\n",
       "      <td>0.466264</td>\n",
       "      <td>1.000000</td>\n",
       "      <td>-0.056661</td>\n",
       "      <td>0.019424</td>\n",
       "      <td>0.086802</td>\n",
       "      <td>-0.373737</td>\n",
       "      <td>0.099404</td>\n",
       "      <td>0.112360</td>\n",
       "      <td>-0.029862</td>\n",
       "      <td>0.055563</td>\n",
       "      <td>-0.114713</td>\n",
       "      <td>0.217299</td>\n",
       "      <td>0.239543</td>\n",
       "      <td>-0.225016</td>\n",
       "      <td>-0.181877</td>\n",
       "      <td>0.133999</td>\n",
       "      <td>0.238567</td>\n",
       "      <td>-0.101546</td>\n",
       "      <td>0.101546</td>\n",
       "    </tr>\n",
       "    <tr>\n",
       "      <th>wheel-base</th>\n",
       "      <td>-0.535987</td>\n",
       "      <td>-0.056661</td>\n",
       "      <td>1.000000</td>\n",
       "      <td>0.876024</td>\n",
       "      <td>0.814507</td>\n",
       "      <td>0.590742</td>\n",
       "      <td>0.782097</td>\n",
       "      <td>0.572027</td>\n",
       "      <td>0.493244</td>\n",
       "      <td>0.158502</td>\n",
       "      <td>0.250313</td>\n",
       "      <td>0.371147</td>\n",
       "      <td>-0.360305</td>\n",
       "      <td>-0.470606</td>\n",
       "      <td>-0.543304</td>\n",
       "      <td>0.584642</td>\n",
       "      <td>0.476153</td>\n",
       "      <td>0.307237</td>\n",
       "      <td>-0.307237</td>\n",
       "    </tr>\n",
       "    <tr>\n",
       "      <th>length</th>\n",
       "      <td>-0.365404</td>\n",
       "      <td>0.019424</td>\n",
       "      <td>0.876024</td>\n",
       "      <td>1.000000</td>\n",
       "      <td>0.857170</td>\n",
       "      <td>0.492063</td>\n",
       "      <td>0.880665</td>\n",
       "      <td>0.685025</td>\n",
       "      <td>0.608971</td>\n",
       "      <td>0.124139</td>\n",
       "      <td>0.159733</td>\n",
       "      <td>0.579821</td>\n",
       "      <td>-0.285970</td>\n",
       "      <td>-0.665192</td>\n",
       "      <td>-0.698142</td>\n",
       "      <td>0.690628</td>\n",
       "      <td>0.657373</td>\n",
       "      <td>0.211187</td>\n",
       "      <td>-0.211187</td>\n",
       "    </tr>\n",
       "    <tr>\n",
       "      <th>width</th>\n",
       "      <td>-0.242423</td>\n",
       "      <td>0.086802</td>\n",
       "      <td>0.814507</td>\n",
       "      <td>0.857170</td>\n",
       "      <td>1.000000</td>\n",
       "      <td>0.306002</td>\n",
       "      <td>0.866201</td>\n",
       "      <td>0.729436</td>\n",
       "      <td>0.544885</td>\n",
       "      <td>0.188829</td>\n",
       "      <td>0.189867</td>\n",
       "      <td>0.615077</td>\n",
       "      <td>-0.245800</td>\n",
       "      <td>-0.633531</td>\n",
       "      <td>-0.680635</td>\n",
       "      <td>0.751265</td>\n",
       "      <td>0.673363</td>\n",
       "      <td>0.244356</td>\n",
       "      <td>-0.244356</td>\n",
       "    </tr>\n",
       "    <tr>\n",
       "      <th>height</th>\n",
       "      <td>-0.550160</td>\n",
       "      <td>-0.373737</td>\n",
       "      <td>0.590742</td>\n",
       "      <td>0.492063</td>\n",
       "      <td>0.306002</td>\n",
       "      <td>1.000000</td>\n",
       "      <td>0.307581</td>\n",
       "      <td>0.074694</td>\n",
       "      <td>0.180449</td>\n",
       "      <td>-0.062704</td>\n",
       "      <td>0.259737</td>\n",
       "      <td>-0.087027</td>\n",
       "      <td>-0.309974</td>\n",
       "      <td>-0.049800</td>\n",
       "      <td>-0.104812</td>\n",
       "      <td>0.135486</td>\n",
       "      <td>0.003811</td>\n",
       "      <td>0.281578</td>\n",
       "      <td>-0.281578</td>\n",
       "    </tr>\n",
       "    <tr>\n",
       "      <th>curb-weight</th>\n",
       "      <td>-0.233118</td>\n",
       "      <td>0.099404</td>\n",
       "      <td>0.782097</td>\n",
       "      <td>0.880665</td>\n",
       "      <td>0.866201</td>\n",
       "      <td>0.307581</td>\n",
       "      <td>1.000000</td>\n",
       "      <td>0.849072</td>\n",
       "      <td>0.644060</td>\n",
       "      <td>0.167562</td>\n",
       "      <td>0.156433</td>\n",
       "      <td>0.757976</td>\n",
       "      <td>-0.279361</td>\n",
       "      <td>-0.749543</td>\n",
       "      <td>-0.794889</td>\n",
       "      <td>0.834415</td>\n",
       "      <td>0.785353</td>\n",
       "      <td>0.221046</td>\n",
       "      <td>-0.221046</td>\n",
       "    </tr>\n",
       "    <tr>\n",
       "      <th>engine-size</th>\n",
       "      <td>-0.110581</td>\n",
       "      <td>0.112360</td>\n",
       "      <td>0.572027</td>\n",
       "      <td>0.685025</td>\n",
       "      <td>0.729436</td>\n",
       "      <td>0.074694</td>\n",
       "      <td>0.849072</td>\n",
       "      <td>1.000000</td>\n",
       "      <td>0.572609</td>\n",
       "      <td>0.209523</td>\n",
       "      <td>0.028889</td>\n",
       "      <td>0.822676</td>\n",
       "      <td>-0.256733</td>\n",
       "      <td>-0.650546</td>\n",
       "      <td>-0.679571</td>\n",
       "      <td>0.872335</td>\n",
       "      <td>0.745059</td>\n",
       "      <td>0.070779</td>\n",
       "      <td>-0.070779</td>\n",
       "    </tr>\n",
       "    <tr>\n",
       "      <th>bore</th>\n",
       "      <td>-0.140019</td>\n",
       "      <td>-0.029862</td>\n",
       "      <td>0.493244</td>\n",
       "      <td>0.608971</td>\n",
       "      <td>0.544885</td>\n",
       "      <td>0.180449</td>\n",
       "      <td>0.644060</td>\n",
       "      <td>0.572609</td>\n",
       "      <td>1.000000</td>\n",
       "      <td>-0.055390</td>\n",
       "      <td>0.001263</td>\n",
       "      <td>0.566936</td>\n",
       "      <td>-0.267392</td>\n",
       "      <td>-0.582027</td>\n",
       "      <td>-0.591309</td>\n",
       "      <td>0.543155</td>\n",
       "      <td>0.554610</td>\n",
       "      <td>0.054458</td>\n",
       "      <td>-0.054458</td>\n",
       "    </tr>\n",
       "    <tr>\n",
       "      <th>stroke</th>\n",
       "      <td>-0.008245</td>\n",
       "      <td>0.055563</td>\n",
       "      <td>0.158502</td>\n",
       "      <td>0.124139</td>\n",
       "      <td>0.188829</td>\n",
       "      <td>-0.062704</td>\n",
       "      <td>0.167562</td>\n",
       "      <td>0.209523</td>\n",
       "      <td>-0.055390</td>\n",
       "      <td>1.000000</td>\n",
       "      <td>0.187923</td>\n",
       "      <td>0.098462</td>\n",
       "      <td>-0.065713</td>\n",
       "      <td>-0.034696</td>\n",
       "      <td>-0.035201</td>\n",
       "      <td>0.082310</td>\n",
       "      <td>0.037300</td>\n",
       "      <td>0.241303</td>\n",
       "      <td>-0.241303</td>\n",
       "    </tr>\n",
       "    <tr>\n",
       "      <th>compression-ratio</th>\n",
       "      <td>-0.182196</td>\n",
       "      <td>-0.114713</td>\n",
       "      <td>0.250313</td>\n",
       "      <td>0.159733</td>\n",
       "      <td>0.189867</td>\n",
       "      <td>0.259737</td>\n",
       "      <td>0.156433</td>\n",
       "      <td>0.028889</td>\n",
       "      <td>0.001263</td>\n",
       "      <td>0.187923</td>\n",
       "      <td>1.000000</td>\n",
       "      <td>-0.214514</td>\n",
       "      <td>-0.435780</td>\n",
       "      <td>0.331425</td>\n",
       "      <td>0.268465</td>\n",
       "      <td>0.071107</td>\n",
       "      <td>-0.299372</td>\n",
       "      <td>0.985231</td>\n",
       "      <td>-0.985231</td>\n",
       "    </tr>\n",
       "    <tr>\n",
       "      <th>horsepower</th>\n",
       "      <td>0.075819</td>\n",
       "      <td>0.217299</td>\n",
       "      <td>0.371147</td>\n",
       "      <td>0.579821</td>\n",
       "      <td>0.615077</td>\n",
       "      <td>-0.087027</td>\n",
       "      <td>0.757976</td>\n",
       "      <td>0.822676</td>\n",
       "      <td>0.566936</td>\n",
       "      <td>0.098462</td>\n",
       "      <td>-0.214514</td>\n",
       "      <td>1.000000</td>\n",
       "      <td>0.107885</td>\n",
       "      <td>-0.822214</td>\n",
       "      <td>-0.804575</td>\n",
       "      <td>0.809575</td>\n",
       "      <td>0.889488</td>\n",
       "      <td>-0.169053</td>\n",
       "      <td>0.169053</td>\n",
       "    </tr>\n",
       "    <tr>\n",
       "      <th>peak-rpm</th>\n",
       "      <td>0.279740</td>\n",
       "      <td>0.239543</td>\n",
       "      <td>-0.360305</td>\n",
       "      <td>-0.285970</td>\n",
       "      <td>-0.245800</td>\n",
       "      <td>-0.309974</td>\n",
       "      <td>-0.279361</td>\n",
       "      <td>-0.256733</td>\n",
       "      <td>-0.267392</td>\n",
       "      <td>-0.065713</td>\n",
       "      <td>-0.435780</td>\n",
       "      <td>0.107885</td>\n",
       "      <td>1.000000</td>\n",
       "      <td>-0.115413</td>\n",
       "      <td>-0.058598</td>\n",
       "      <td>-0.101616</td>\n",
       "      <td>0.115830</td>\n",
       "      <td>-0.475812</td>\n",
       "      <td>0.475812</td>\n",
       "    </tr>\n",
       "    <tr>\n",
       "      <th>city-mpg</th>\n",
       "      <td>-0.035527</td>\n",
       "      <td>-0.225016</td>\n",
       "      <td>-0.470606</td>\n",
       "      <td>-0.665192</td>\n",
       "      <td>-0.633531</td>\n",
       "      <td>-0.049800</td>\n",
       "      <td>-0.749543</td>\n",
       "      <td>-0.650546</td>\n",
       "      <td>-0.582027</td>\n",
       "      <td>-0.034696</td>\n",
       "      <td>0.331425</td>\n",
       "      <td>-0.822214</td>\n",
       "      <td>-0.115413</td>\n",
       "      <td>1.000000</td>\n",
       "      <td>0.972044</td>\n",
       "      <td>-0.686571</td>\n",
       "      <td>-0.949713</td>\n",
       "      <td>0.265676</td>\n",
       "      <td>-0.265676</td>\n",
       "    </tr>\n",
       "    <tr>\n",
       "      <th>highway-mpg</th>\n",
       "      <td>0.036233</td>\n",
       "      <td>-0.181877</td>\n",
       "      <td>-0.543304</td>\n",
       "      <td>-0.698142</td>\n",
       "      <td>-0.680635</td>\n",
       "      <td>-0.104812</td>\n",
       "      <td>-0.794889</td>\n",
       "      <td>-0.679571</td>\n",
       "      <td>-0.591309</td>\n",
       "      <td>-0.035201</td>\n",
       "      <td>0.268465</td>\n",
       "      <td>-0.804575</td>\n",
       "      <td>-0.058598</td>\n",
       "      <td>0.972044</td>\n",
       "      <td>1.000000</td>\n",
       "      <td>-0.704692</td>\n",
       "      <td>-0.930028</td>\n",
       "      <td>0.198690</td>\n",
       "      <td>-0.198690</td>\n",
       "    </tr>\n",
       "    <tr>\n",
       "      <th>price</th>\n",
       "      <td>-0.082391</td>\n",
       "      <td>0.133999</td>\n",
       "      <td>0.584642</td>\n",
       "      <td>0.690628</td>\n",
       "      <td>0.751265</td>\n",
       "      <td>0.135486</td>\n",
       "      <td>0.834415</td>\n",
       "      <td>0.872335</td>\n",
       "      <td>0.543155</td>\n",
       "      <td>0.082310</td>\n",
       "      <td>0.071107</td>\n",
       "      <td>0.809575</td>\n",
       "      <td>-0.101616</td>\n",
       "      <td>-0.686571</td>\n",
       "      <td>-0.704692</td>\n",
       "      <td>1.000000</td>\n",
       "      <td>0.789898</td>\n",
       "      <td>0.110326</td>\n",
       "      <td>-0.110326</td>\n",
       "    </tr>\n",
       "    <tr>\n",
       "      <th>city-L/100km</th>\n",
       "      <td>0.066171</td>\n",
       "      <td>0.238567</td>\n",
       "      <td>0.476153</td>\n",
       "      <td>0.657373</td>\n",
       "      <td>0.673363</td>\n",
       "      <td>0.003811</td>\n",
       "      <td>0.785353</td>\n",
       "      <td>0.745059</td>\n",
       "      <td>0.554610</td>\n",
       "      <td>0.037300</td>\n",
       "      <td>-0.299372</td>\n",
       "      <td>0.889488</td>\n",
       "      <td>0.115830</td>\n",
       "      <td>-0.949713</td>\n",
       "      <td>-0.930028</td>\n",
       "      <td>0.789898</td>\n",
       "      <td>1.000000</td>\n",
       "      <td>-0.241282</td>\n",
       "      <td>0.241282</td>\n",
       "    </tr>\n",
       "    <tr>\n",
       "      <th>diesel</th>\n",
       "      <td>-0.196735</td>\n",
       "      <td>-0.101546</td>\n",
       "      <td>0.307237</td>\n",
       "      <td>0.211187</td>\n",
       "      <td>0.244356</td>\n",
       "      <td>0.281578</td>\n",
       "      <td>0.221046</td>\n",
       "      <td>0.070779</td>\n",
       "      <td>0.054458</td>\n",
       "      <td>0.241303</td>\n",
       "      <td>0.985231</td>\n",
       "      <td>-0.169053</td>\n",
       "      <td>-0.475812</td>\n",
       "      <td>0.265676</td>\n",
       "      <td>0.198690</td>\n",
       "      <td>0.110326</td>\n",
       "      <td>-0.241282</td>\n",
       "      <td>1.000000</td>\n",
       "      <td>-1.000000</td>\n",
       "    </tr>\n",
       "    <tr>\n",
       "      <th>gas</th>\n",
       "      <td>0.196735</td>\n",
       "      <td>0.101546</td>\n",
       "      <td>-0.307237</td>\n",
       "      <td>-0.211187</td>\n",
       "      <td>-0.244356</td>\n",
       "      <td>-0.281578</td>\n",
       "      <td>-0.221046</td>\n",
       "      <td>-0.070779</td>\n",
       "      <td>-0.054458</td>\n",
       "      <td>-0.241303</td>\n",
       "      <td>-0.985231</td>\n",
       "      <td>0.169053</td>\n",
       "      <td>0.475812</td>\n",
       "      <td>-0.265676</td>\n",
       "      <td>-0.198690</td>\n",
       "      <td>-0.110326</td>\n",
       "      <td>0.241282</td>\n",
       "      <td>-1.000000</td>\n",
       "      <td>1.000000</td>\n",
       "    </tr>\n",
       "  </tbody>\n",
       "</table>\n",
       "</div>"
      ],
      "text/plain": [
       "                   symboling  normalized-losses  wheel-base    length  \\\n",
       "symboling           1.000000           0.466264   -0.535987 -0.365404   \n",
       "normalized-losses   0.466264           1.000000   -0.056661  0.019424   \n",
       "wheel-base         -0.535987          -0.056661    1.000000  0.876024   \n",
       "length             -0.365404           0.019424    0.876024  1.000000   \n",
       "width              -0.242423           0.086802    0.814507  0.857170   \n",
       "height             -0.550160          -0.373737    0.590742  0.492063   \n",
       "curb-weight        -0.233118           0.099404    0.782097  0.880665   \n",
       "engine-size        -0.110581           0.112360    0.572027  0.685025   \n",
       "bore               -0.140019          -0.029862    0.493244  0.608971   \n",
       "stroke             -0.008245           0.055563    0.158502  0.124139   \n",
       "compression-ratio  -0.182196          -0.114713    0.250313  0.159733   \n",
       "horsepower          0.075819           0.217299    0.371147  0.579821   \n",
       "peak-rpm            0.279740           0.239543   -0.360305 -0.285970   \n",
       "city-mpg           -0.035527          -0.225016   -0.470606 -0.665192   \n",
       "highway-mpg         0.036233          -0.181877   -0.543304 -0.698142   \n",
       "price              -0.082391           0.133999    0.584642  0.690628   \n",
       "city-L/100km        0.066171           0.238567    0.476153  0.657373   \n",
       "diesel             -0.196735          -0.101546    0.307237  0.211187   \n",
       "gas                 0.196735           0.101546   -0.307237 -0.211187   \n",
       "\n",
       "                      width    height  curb-weight  engine-size      bore  \\\n",
       "symboling         -0.242423 -0.550160    -0.233118    -0.110581 -0.140019   \n",
       "normalized-losses  0.086802 -0.373737     0.099404     0.112360 -0.029862   \n",
       "wheel-base         0.814507  0.590742     0.782097     0.572027  0.493244   \n",
       "length             0.857170  0.492063     0.880665     0.685025  0.608971   \n",
       "width              1.000000  0.306002     0.866201     0.729436  0.544885   \n",
       "height             0.306002  1.000000     0.307581     0.074694  0.180449   \n",
       "curb-weight        0.866201  0.307581     1.000000     0.849072  0.644060   \n",
       "engine-size        0.729436  0.074694     0.849072     1.000000  0.572609   \n",
       "bore               0.544885  0.180449     0.644060     0.572609  1.000000   \n",
       "stroke             0.188829 -0.062704     0.167562     0.209523 -0.055390   \n",
       "compression-ratio  0.189867  0.259737     0.156433     0.028889  0.001263   \n",
       "horsepower         0.615077 -0.087027     0.757976     0.822676  0.566936   \n",
       "peak-rpm          -0.245800 -0.309974    -0.279361    -0.256733 -0.267392   \n",
       "city-mpg          -0.633531 -0.049800    -0.749543    -0.650546 -0.582027   \n",
       "highway-mpg       -0.680635 -0.104812    -0.794889    -0.679571 -0.591309   \n",
       "price              0.751265  0.135486     0.834415     0.872335  0.543155   \n",
       "city-L/100km       0.673363  0.003811     0.785353     0.745059  0.554610   \n",
       "diesel             0.244356  0.281578     0.221046     0.070779  0.054458   \n",
       "gas               -0.244356 -0.281578    -0.221046    -0.070779 -0.054458   \n",
       "\n",
       "                     stroke  compression-ratio  horsepower  peak-rpm  \\\n",
       "symboling         -0.008245          -0.182196    0.075819  0.279740   \n",
       "normalized-losses  0.055563          -0.114713    0.217299  0.239543   \n",
       "wheel-base         0.158502           0.250313    0.371147 -0.360305   \n",
       "length             0.124139           0.159733    0.579821 -0.285970   \n",
       "width              0.188829           0.189867    0.615077 -0.245800   \n",
       "height            -0.062704           0.259737   -0.087027 -0.309974   \n",
       "curb-weight        0.167562           0.156433    0.757976 -0.279361   \n",
       "engine-size        0.209523           0.028889    0.822676 -0.256733   \n",
       "bore              -0.055390           0.001263    0.566936 -0.267392   \n",
       "stroke             1.000000           0.187923    0.098462 -0.065713   \n",
       "compression-ratio  0.187923           1.000000   -0.214514 -0.435780   \n",
       "horsepower         0.098462          -0.214514    1.000000  0.107885   \n",
       "peak-rpm          -0.065713          -0.435780    0.107885  1.000000   \n",
       "city-mpg          -0.034696           0.331425   -0.822214 -0.115413   \n",
       "highway-mpg       -0.035201           0.268465   -0.804575 -0.058598   \n",
       "price              0.082310           0.071107    0.809575 -0.101616   \n",
       "city-L/100km       0.037300          -0.299372    0.889488  0.115830   \n",
       "diesel             0.241303           0.985231   -0.169053 -0.475812   \n",
       "gas               -0.241303          -0.985231    0.169053  0.475812   \n",
       "\n",
       "                   city-mpg  highway-mpg     price  city-L/100km    diesel  \\\n",
       "symboling         -0.035527     0.036233 -0.082391      0.066171 -0.196735   \n",
       "normalized-losses -0.225016    -0.181877  0.133999      0.238567 -0.101546   \n",
       "wheel-base        -0.470606    -0.543304  0.584642      0.476153  0.307237   \n",
       "length            -0.665192    -0.698142  0.690628      0.657373  0.211187   \n",
       "width             -0.633531    -0.680635  0.751265      0.673363  0.244356   \n",
       "height            -0.049800    -0.104812  0.135486      0.003811  0.281578   \n",
       "curb-weight       -0.749543    -0.794889  0.834415      0.785353  0.221046   \n",
       "engine-size       -0.650546    -0.679571  0.872335      0.745059  0.070779   \n",
       "bore              -0.582027    -0.591309  0.543155      0.554610  0.054458   \n",
       "stroke            -0.034696    -0.035201  0.082310      0.037300  0.241303   \n",
       "compression-ratio  0.331425     0.268465  0.071107     -0.299372  0.985231   \n",
       "horsepower        -0.822214    -0.804575  0.809575      0.889488 -0.169053   \n",
       "peak-rpm          -0.115413    -0.058598 -0.101616      0.115830 -0.475812   \n",
       "city-mpg           1.000000     0.972044 -0.686571     -0.949713  0.265676   \n",
       "highway-mpg        0.972044     1.000000 -0.704692     -0.930028  0.198690   \n",
       "price             -0.686571    -0.704692  1.000000      0.789898  0.110326   \n",
       "city-L/100km      -0.949713    -0.930028  0.789898      1.000000 -0.241282   \n",
       "diesel             0.265676     0.198690  0.110326     -0.241282  1.000000   \n",
       "gas               -0.265676    -0.198690 -0.110326      0.241282 -1.000000   \n",
       "\n",
       "                        gas  \n",
       "symboling          0.196735  \n",
       "normalized-losses  0.101546  \n",
       "wheel-base        -0.307237  \n",
       "length            -0.211187  \n",
       "width             -0.244356  \n",
       "height            -0.281578  \n",
       "curb-weight       -0.221046  \n",
       "engine-size       -0.070779  \n",
       "bore              -0.054458  \n",
       "stroke            -0.241303  \n",
       "compression-ratio -0.985231  \n",
       "horsepower         0.169053  \n",
       "peak-rpm           0.475812  \n",
       "city-mpg          -0.265676  \n",
       "highway-mpg       -0.198690  \n",
       "price             -0.110326  \n",
       "city-L/100km       0.241282  \n",
       "diesel            -1.000000  \n",
       "gas                1.000000  "
      ]
     },
     "execution_count": 6,
     "metadata": {},
     "output_type": "execute_result"
    }
   ],
=======
   "execution_count": null,
   "metadata": {
    "collapsed": false
   },
   "outputs": [],
>>>>>>> d6b5bd050ed7ba736b15c35bb74c4476035c8c84
   "source": [
    "df.corr()"
   ]
  },
  {
   "cell_type": "markdown",
   "metadata": {},
   "source": [
    "The diagonal elements are always one; we will study correlation more precisely Pearson correlation in-depth at the end of the notebook."
   ]
  },
  {
   "cell_type": "markdown",
   "metadata": {},
   "source": [
    "<div class=\"alert alert-danger alertdanger\" style=\"margin-top: 20px\">\n",
    "<h1> Question  #2: </h1>\n",
    "\n",
    "<p>Find the correlation between the following columns: bore, stroke,compression-ratio , and horsepower.</p>\n",
    "<p>Hint: if you would like to select those columns  use the following syntax: df[['bore','stroke' ,'compression-ratio','horsepower']]</p>\n",
    "</div>"
   ]
  },
  {
   "cell_type": "code",
<<<<<<< HEAD
   "execution_count": 7,
   "metadata": {},
   "outputs": [
    {
     "data": {
      "text/html": [
       "<div>\n",
       "<style scoped>\n",
       "    .dataframe tbody tr th:only-of-type {\n",
       "        vertical-align: middle;\n",
       "    }\n",
       "\n",
       "    .dataframe tbody tr th {\n",
       "        vertical-align: top;\n",
       "    }\n",
       "\n",
       "    .dataframe thead th {\n",
       "        text-align: right;\n",
       "    }\n",
       "</style>\n",
       "<table border=\"1\" class=\"dataframe\">\n",
       "  <thead>\n",
       "    <tr style=\"text-align: right;\">\n",
       "      <th></th>\n",
       "      <th>bore</th>\n",
       "      <th>stroke</th>\n",
       "      <th>compression-ratio</th>\n",
       "      <th>horsepower</th>\n",
       "    </tr>\n",
       "  </thead>\n",
       "  <tbody>\n",
       "    <tr>\n",
       "      <th>bore</th>\n",
       "      <td>1.000000</td>\n",
       "      <td>-0.055390</td>\n",
       "      <td>0.001263</td>\n",
       "      <td>0.566936</td>\n",
       "    </tr>\n",
       "    <tr>\n",
       "      <th>stroke</th>\n",
       "      <td>-0.055390</td>\n",
       "      <td>1.000000</td>\n",
       "      <td>0.187923</td>\n",
       "      <td>0.098462</td>\n",
       "    </tr>\n",
       "    <tr>\n",
       "      <th>compression-ratio</th>\n",
       "      <td>0.001263</td>\n",
       "      <td>0.187923</td>\n",
       "      <td>1.000000</td>\n",
       "      <td>-0.214514</td>\n",
       "    </tr>\n",
       "    <tr>\n",
       "      <th>horsepower</th>\n",
       "      <td>0.566936</td>\n",
       "      <td>0.098462</td>\n",
       "      <td>-0.214514</td>\n",
       "      <td>1.000000</td>\n",
       "    </tr>\n",
       "  </tbody>\n",
       "</table>\n",
       "</div>"
      ],
      "text/plain": [
       "                       bore    stroke  compression-ratio  horsepower\n",
       "bore               1.000000 -0.055390           0.001263    0.566936\n",
       "stroke            -0.055390  1.000000           0.187923    0.098462\n",
       "compression-ratio  0.001263  0.187923           1.000000   -0.214514\n",
       "horsepower         0.566936  0.098462          -0.214514    1.000000"
      ]
     },
     "execution_count": 7,
     "metadata": {},
     "output_type": "execute_result"
    }
   ],
   "source": [
    "# Write your code below and press Shift+Enter to execute \n",
    "df[['bore','stroke' ,'compression-ratio','horsepower']].corr()"
=======
   "execution_count": null,
   "metadata": {
    "collapsed": true
   },
   "outputs": [],
   "source": [
    "# Write your code below and press Shift+Enter to execute \n"
>>>>>>> d6b5bd050ed7ba736b15c35bb74c4476035c8c84
   ]
  },
  {
   "cell_type": "markdown",
   "metadata": {},
   "source": [
    "Double-click <b>here</b> for the solution.\n",
    "\n",
    "<!-- The answer is below:\n",
    "\n",
    "df[['bore', 'stroke', 'compression-ratio', 'horsepower']].corr()  \n",
    "\n",
    "-->"
   ]
  },
  {
   "cell_type": "markdown",
   "metadata": {},
   "source": [
    "<h2>Continuous numerical variables:</h2> \n",
    "\n",
    "<p>Continuous numerical variables are variables that may contain any value within some range. Continuous numerical variables can have the type \"int64\" or \"float64\". A great way to visualize these variables is by using scatterplots with fitted lines.</p>\n",
    "\n",
    "<p>In order to start understanding the (linear) relationship between an individual variable and the price. We can do this by using \"regplot\", which plots the scatterplot plus the fitted regression line for the data.</p>"
   ]
  },
  {
   "cell_type": "markdown",
   "metadata": {},
   "source": [
    " Let's see several examples of different linear relationships:"
   ]
  },
  {
   "cell_type": "markdown",
   "metadata": {},
   "source": [
    "<h4>Positive linear relationship</h4>"
   ]
  },
  {
   "cell_type": "markdown",
   "metadata": {},
   "source": [
    "Let's find the scatterplot of \"engine-size\" and \"price\" "
   ]
  },
  {
   "cell_type": "code",
<<<<<<< HEAD
   "execution_count": 8,
   "metadata": {
    "scrolled": true
   },
   "outputs": [
    {
     "data": {
      "text/plain": [
       "(0, 53216.309020378096)"
      ]
     },
     "execution_count": 8,
     "metadata": {},
     "output_type": "execute_result"
    },
    {
     "data": {
      "image/png": "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\n",
      "text/plain": [
       "<Figure size 432x288 with 1 Axes>"
      ]
     },
     "metadata": {
      "needs_background": "light"
     },
     "output_type": "display_data"
    }
   ],
=======
   "execution_count": null,
   "metadata": {
    "collapsed": false,
    "scrolled": true
   },
   "outputs": [],
>>>>>>> d6b5bd050ed7ba736b15c35bb74c4476035c8c84
   "source": [
    "# Engine size as potential predictor variable of price\n",
    "sns.regplot(x=\"engine-size\", y=\"price\", data=df)\n",
    "plt.ylim(0,)"
   ]
  },
  {
   "cell_type": "markdown",
   "metadata": {},
   "source": [
    "<p>As the engine-size goes up, the price goes up: this indicates a positive direct correlation between these two variables. Engine size seems like a pretty good predictor of price since the regression line is almost a perfect diagonal line.</p>"
   ]
  },
  {
   "cell_type": "markdown",
   "metadata": {},
   "source": [
    " We can examine the correlation between 'engine-size' and 'price' and see it's approximately  0.87"
   ]
  },
  {
   "cell_type": "code",
<<<<<<< HEAD
   "execution_count": 9,
   "metadata": {},
   "outputs": [
    {
     "data": {
      "text/html": [
       "<div>\n",
       "<style scoped>\n",
       "    .dataframe tbody tr th:only-of-type {\n",
       "        vertical-align: middle;\n",
       "    }\n",
       "\n",
       "    .dataframe tbody tr th {\n",
       "        vertical-align: top;\n",
       "    }\n",
       "\n",
       "    .dataframe thead th {\n",
       "        text-align: right;\n",
       "    }\n",
       "</style>\n",
       "<table border=\"1\" class=\"dataframe\">\n",
       "  <thead>\n",
       "    <tr style=\"text-align: right;\">\n",
       "      <th></th>\n",
       "      <th>engine-size</th>\n",
       "      <th>price</th>\n",
       "    </tr>\n",
       "  </thead>\n",
       "  <tbody>\n",
       "    <tr>\n",
       "      <th>engine-size</th>\n",
       "      <td>1.000000</td>\n",
       "      <td>0.872335</td>\n",
       "    </tr>\n",
       "    <tr>\n",
       "      <th>price</th>\n",
       "      <td>0.872335</td>\n",
       "      <td>1.000000</td>\n",
       "    </tr>\n",
       "  </tbody>\n",
       "</table>\n",
       "</div>"
      ],
      "text/plain": [
       "             engine-size     price\n",
       "engine-size     1.000000  0.872335\n",
       "price           0.872335  1.000000"
      ]
     },
     "execution_count": 9,
     "metadata": {},
     "output_type": "execute_result"
    }
   ],
=======
   "execution_count": null,
   "metadata": {
    "collapsed": false
   },
   "outputs": [],
>>>>>>> d6b5bd050ed7ba736b15c35bb74c4476035c8c84
   "source": [
    "df[[\"engine-size\", \"price\"]].corr()"
   ]
  },
  {
   "cell_type": "markdown",
   "metadata": {},
   "source": [
    "Highway mpg is a potential predictor variable of price "
   ]
  },
  {
   "cell_type": "code",
<<<<<<< HEAD
   "execution_count": 10,
   "metadata": {},
   "outputs": [
    {
     "data": {
      "text/plain": [
       "<matplotlib.axes._subplots.AxesSubplot at 0x7f9cb14e7e90>"
      ]
     },
     "execution_count": 10,
     "metadata": {},
     "output_type": "execute_result"
    },
    {
     "data": {
      "image/png": "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\n",
      "text/plain": [
       "<Figure size 432x288 with 1 Axes>"
      ]
     },
     "metadata": {
      "needs_background": "light"
     },
     "output_type": "display_data"
    }
   ],
=======
   "execution_count": null,
   "metadata": {
    "collapsed": false
   },
   "outputs": [],
>>>>>>> d6b5bd050ed7ba736b15c35bb74c4476035c8c84
   "source": [
    "sns.regplot(x=\"highway-mpg\", y=\"price\", data=df)"
   ]
  },
  {
   "cell_type": "markdown",
   "metadata": {},
   "source": [
    "<p>As the highway-mpg goes up, the price goes down: this indicates an inverse/negative relationship between these two variables. Highway mpg could potentially be a predictor of price.</p>"
   ]
  },
  {
   "cell_type": "markdown",
   "metadata": {},
   "source": [
    "We can examine the correlation between 'highway-mpg' and 'price' and see it's approximately  -0.704"
   ]
  },
  {
   "cell_type": "code",
<<<<<<< HEAD
   "execution_count": 11,
   "metadata": {},
   "outputs": [
    {
     "data": {
      "text/html": [
       "<div>\n",
       "<style scoped>\n",
       "    .dataframe tbody tr th:only-of-type {\n",
       "        vertical-align: middle;\n",
       "    }\n",
       "\n",
       "    .dataframe tbody tr th {\n",
       "        vertical-align: top;\n",
       "    }\n",
       "\n",
       "    .dataframe thead th {\n",
       "        text-align: right;\n",
       "    }\n",
       "</style>\n",
       "<table border=\"1\" class=\"dataframe\">\n",
       "  <thead>\n",
       "    <tr style=\"text-align: right;\">\n",
       "      <th></th>\n",
       "      <th>highway-mpg</th>\n",
       "      <th>price</th>\n",
       "    </tr>\n",
       "  </thead>\n",
       "  <tbody>\n",
       "    <tr>\n",
       "      <th>highway-mpg</th>\n",
       "      <td>1.000000</td>\n",
       "      <td>-0.704692</td>\n",
       "    </tr>\n",
       "    <tr>\n",
       "      <th>price</th>\n",
       "      <td>-0.704692</td>\n",
       "      <td>1.000000</td>\n",
       "    </tr>\n",
       "  </tbody>\n",
       "</table>\n",
       "</div>"
      ],
      "text/plain": [
       "             highway-mpg     price\n",
       "highway-mpg     1.000000 -0.704692\n",
       "price          -0.704692  1.000000"
      ]
     },
     "execution_count": 11,
     "metadata": {},
     "output_type": "execute_result"
    }
   ],
=======
   "execution_count": null,
   "metadata": {
    "collapsed": false
   },
   "outputs": [],
>>>>>>> d6b5bd050ed7ba736b15c35bb74c4476035c8c84
   "source": [
    "df[['highway-mpg', 'price']].corr()"
   ]
  },
  {
   "cell_type": "markdown",
   "metadata": {},
   "source": [
    "<h3>Weak Linear Relationship</h3>"
   ]
  },
  {
   "cell_type": "markdown",
   "metadata": {},
   "source": [
    "Let's see if \"Peak-rpm\" as a predictor variable of \"price\"."
   ]
  },
  {
   "cell_type": "code",
<<<<<<< HEAD
   "execution_count": 12,
   "metadata": {},
   "outputs": [
    {
     "data": {
      "text/plain": [
       "<matplotlib.axes._subplots.AxesSubplot at 0x7f9cb162b190>"
      ]
     },
     "execution_count": 12,
     "metadata": {},
     "output_type": "execute_result"
    },
    {
     "data": {
      "image/png": "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\n",
      "text/plain": [
       "<Figure size 432x288 with 1 Axes>"
      ]
     },
     "metadata": {
      "needs_background": "light"
     },
     "output_type": "display_data"
    }
   ],
=======
   "execution_count": null,
   "metadata": {
    "collapsed": false
   },
   "outputs": [],
>>>>>>> d6b5bd050ed7ba736b15c35bb74c4476035c8c84
   "source": [
    "sns.regplot(x=\"peak-rpm\", y=\"price\", data=df)"
   ]
  },
  {
   "cell_type": "markdown",
   "metadata": {},
   "source": [
    "<p>Peak rpm does not seem like a good predictor of the price at all since the regression line is close to horizontal. Also, the data points are very scattered and far from the fitted line, showing lots of variability. Therefore it's it is not a reliable variable.</p>"
   ]
  },
  {
   "cell_type": "markdown",
   "metadata": {},
   "source": [
    "We can examine the correlation between 'peak-rpm' and 'price' and see it's approximately -0.101616 "
   ]
  },
  {
   "cell_type": "code",
<<<<<<< HEAD
   "execution_count": 13,
   "metadata": {},
   "outputs": [
    {
     "data": {
      "text/html": [
       "<div>\n",
       "<style scoped>\n",
       "    .dataframe tbody tr th:only-of-type {\n",
       "        vertical-align: middle;\n",
       "    }\n",
       "\n",
       "    .dataframe tbody tr th {\n",
       "        vertical-align: top;\n",
       "    }\n",
       "\n",
       "    .dataframe thead th {\n",
       "        text-align: right;\n",
       "    }\n",
       "</style>\n",
       "<table border=\"1\" class=\"dataframe\">\n",
       "  <thead>\n",
       "    <tr style=\"text-align: right;\">\n",
       "      <th></th>\n",
       "      <th>peak-rpm</th>\n",
       "      <th>price</th>\n",
       "    </tr>\n",
       "  </thead>\n",
       "  <tbody>\n",
       "    <tr>\n",
       "      <th>peak-rpm</th>\n",
       "      <td>1.000000</td>\n",
       "      <td>-0.101616</td>\n",
       "    </tr>\n",
       "    <tr>\n",
       "      <th>price</th>\n",
       "      <td>-0.101616</td>\n",
       "      <td>1.000000</td>\n",
       "    </tr>\n",
       "  </tbody>\n",
       "</table>\n",
       "</div>"
      ],
      "text/plain": [
       "          peak-rpm     price\n",
       "peak-rpm  1.000000 -0.101616\n",
       "price    -0.101616  1.000000"
      ]
     },
     "execution_count": 13,
     "metadata": {},
     "output_type": "execute_result"
    }
   ],
=======
   "execution_count": null,
   "metadata": {
    "collapsed": false
   },
   "outputs": [],
>>>>>>> d6b5bd050ed7ba736b15c35bb74c4476035c8c84
   "source": [
    "df[['peak-rpm','price']].corr()"
   ]
  },
  {
   "cell_type": "markdown",
   "metadata": {},
   "source": [
    " <div class=\"alert alert-danger alertdanger\" style=\"margin-top: 20px\">\n",
    "<h1> Question  3 a): </h1>\n",
    "\n",
    "<p>Find the correlation  between x=\"stroke\", y=\"price\".</p>\n",
    "<p>Hint: if you would like to select those columns  use the following syntax: df[[\"stroke\",\"price\"]]  </p>\n",
    "</div>"
   ]
  },
  {
   "cell_type": "code",
<<<<<<< HEAD
   "execution_count": 14,
   "metadata": {},
   "outputs": [
    {
     "data": {
      "text/plain": [
       "<matplotlib.axes._subplots.AxesSubplot at 0x7f9cb2fbb350>"
      ]
     },
     "execution_count": 14,
     "metadata": {},
     "output_type": "execute_result"
    },
    {
     "data": {
      "image/png": "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\n",
      "text/plain": [
       "<Figure size 432x288 with 1 Axes>"
      ]
     },
     "metadata": {
      "needs_background": "light"
     },
     "output_type": "display_data"
    }
   ],
   "source": [
    "# Write your code below and press Shift+Enter to execute\n",
    "sns.regplot(x='stroke',y = 'price', data = df)"
   ]
  },
  {
   "cell_type": "code",
   "execution_count": 15,
   "metadata": {},
   "outputs": [
    {
     "data": {
      "text/html": [
       "<div>\n",
       "<style scoped>\n",
       "    .dataframe tbody tr th:only-of-type {\n",
       "        vertical-align: middle;\n",
       "    }\n",
       "\n",
       "    .dataframe tbody tr th {\n",
       "        vertical-align: top;\n",
       "    }\n",
       "\n",
       "    .dataframe thead th {\n",
       "        text-align: right;\n",
       "    }\n",
       "</style>\n",
       "<table border=\"1\" class=\"dataframe\">\n",
       "  <thead>\n",
       "    <tr style=\"text-align: right;\">\n",
       "      <th></th>\n",
       "      <th>stroke</th>\n",
       "      <th>price</th>\n",
       "    </tr>\n",
       "  </thead>\n",
       "  <tbody>\n",
       "    <tr>\n",
       "      <th>stroke</th>\n",
       "      <td>1.00000</td>\n",
       "      <td>0.08231</td>\n",
       "    </tr>\n",
       "    <tr>\n",
       "      <th>price</th>\n",
       "      <td>0.08231</td>\n",
       "      <td>1.00000</td>\n",
       "    </tr>\n",
       "  </tbody>\n",
       "</table>\n",
       "</div>"
      ],
      "text/plain": [
       "         stroke    price\n",
       "stroke  1.00000  0.08231\n",
       "price   0.08231  1.00000"
      ]
     },
     "execution_count": 15,
     "metadata": {},
     "output_type": "execute_result"
    }
   ],
   "source": [
    "df[['stroke','price']].corr()"
   ]
  },
  {
   "cell_type": "markdown",
   "metadata": {},
   "source": [
    "As we se, the co-relation is close to 0. So there's a little relation between price and strokepower"
=======
   "execution_count": null,
   "metadata": {
    "collapsed": false
   },
   "outputs": [],
   "source": [
    "# Write your code below and press Shift+Enter to execute\n"
>>>>>>> d6b5bd050ed7ba736b15c35bb74c4476035c8c84
   ]
  },
  {
   "cell_type": "markdown",
   "metadata": {},
   "source": [
    "Double-click <b>here</b> for the solution.\n",
    "\n",
    "<!-- The answer is below:\n",
    "\n",
    "#The correlation is 0.0823, the non-diagonal elements of the table.\n",
    "#code:\n",
    "df[[\"stroke\",\"price\"]].corr() \n",
    "\n",
    "-->"
   ]
  },
  {
<<<<<<< HEAD
   "cell_type": "code",
   "execution_count": null,
   "metadata": {},
   "outputs": [],
   "source": [
    "# Write your code below and press Shift+Enter to execute \n",
    "sns.regplot(x = )"
=======
   "cell_type": "markdown",
   "metadata": {},
   "source": [
    "<div class=\"alert alert-danger alertdanger\" style=\"margin-top: 20px\">\n",
    "<h1>Question  3 b):</h1>\n",
    "\n",
    "<p>Given the correlation results between \"price\" and \"stroke\" do you expect a linear relationship?</p> \n",
    "<p>Verify your results using the function \"regplot()\".</p>\n",
    "</div>"
   ]
  },
  {
   "cell_type": "code",
   "execution_count": null,
   "metadata": {
    "collapsed": false
   },
   "outputs": [],
   "source": [
    "# Write your code below and press Shift+Enter to execute \n"
>>>>>>> d6b5bd050ed7ba736b15c35bb74c4476035c8c84
   ]
  },
  {
   "cell_type": "markdown",
   "metadata": {},
   "source": [
    "Double-click <b>here</b> for the solution.\n",
    "\n",
    "<!-- The answer is below:\n",
    "\n",
    "#There is a weak correlation between the variable 'stroke' and 'price.' as such regression will not work well.  We #can see this use \"regplot\" to demonstrate this.\n",
    "\n",
    "#Code: \n",
    "sns.regplot(x=\"stroke\", y=\"price\", data=df)\n",
    "\n",
    "-->"
   ]
  },
  {
   "cell_type": "markdown",
   "metadata": {},
   "source": [
    "<h3>Categorical variables</h3>\n",
    "\n",
    "<p>These are variables that describe a 'characteristic' of a data unit, and are selected from a small group of categories. The categorical variables can have the type \"object\" or \"int64\". A good way to visualize categorical variables is by using boxplots.</p>"
   ]
  },
  {
   "cell_type": "markdown",
   "metadata": {},
   "source": [
    "Let's look at the relationship between \"body-style\" and \"price\"."
   ]
  },
  {
   "cell_type": "code",
<<<<<<< HEAD
   "execution_count": 16,
   "metadata": {
    "scrolled": true
   },
   "outputs": [
    {
     "data": {
      "text/plain": [
       "<matplotlib.axes._subplots.AxesSubplot at 0x7f9cb3626550>"
      ]
     },
     "execution_count": 16,
     "metadata": {},
     "output_type": "execute_result"
    },
    {
     "data": {
      "image/png": "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\n",
      "text/plain": [
       "<Figure size 432x288 with 1 Axes>"
      ]
     },
     "metadata": {
      "needs_background": "light"
     },
     "output_type": "display_data"
    }
   ],
=======
   "execution_count": null,
   "metadata": {
    "collapsed": false,
    "scrolled": true
   },
   "outputs": [],
>>>>>>> d6b5bd050ed7ba736b15c35bb74c4476035c8c84
   "source": [
    "sns.boxplot(x=\"body-style\", y=\"price\", data=df)"
   ]
  },
  {
   "cell_type": "markdown",
   "metadata": {},
   "source": [
    "<p>We see that the distributions of price between the different body-style categories have a significant overlap, and so body-style would not be a good predictor of price. Let's examine engine \"engine-location\" and \"price\":</p>"
   ]
  },
  {
   "cell_type": "code",
<<<<<<< HEAD
   "execution_count": 17,
   "metadata": {
    "scrolled": true
   },
   "outputs": [
    {
     "data": {
      "text/plain": [
       "<matplotlib.axes._subplots.AxesSubplot at 0x7f9cb3b02f50>"
      ]
     },
     "execution_count": 17,
     "metadata": {},
     "output_type": "execute_result"
    },
    {
     "data": {
      "image/png": "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\n",
      "text/plain": [
       "<Figure size 432x288 with 1 Axes>"
      ]
     },
     "metadata": {
      "needs_background": "light"
     },
     "output_type": "display_data"
    }
   ],
=======
   "execution_count": null,
   "metadata": {
    "collapsed": false,
    "scrolled": true
   },
   "outputs": [],
>>>>>>> d6b5bd050ed7ba736b15c35bb74c4476035c8c84
   "source": [
    "sns.boxplot(x=\"engine-location\", y=\"price\", data=df)"
   ]
  },
  {
   "cell_type": "markdown",
   "metadata": {},
   "source": [
    "<p>Here we see that the distribution of price between these two engine-location categories, front and rear, are distinct enough to take engine-location as a potential good predictor of price.</p>"
   ]
  },
  {
   "cell_type": "markdown",
   "metadata": {},
   "source": [
    " Let's examine \"drive-wheels\" and \"price\"."
   ]
  },
  {
   "cell_type": "code",
<<<<<<< HEAD
   "execution_count": 18,
   "metadata": {
    "scrolled": false
   },
   "outputs": [
    {
     "data": {
      "text/plain": [
       "<matplotlib.axes._subplots.AxesSubplot at 0x7f9cb38b1a90>"
      ]
     },
     "execution_count": 18,
     "metadata": {},
     "output_type": "execute_result"
    },
    {
     "data": {
      "image/png": "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\n",
      "text/plain": [
       "<Figure size 432x288 with 1 Axes>"
      ]
     },
     "metadata": {
      "needs_background": "light"
     },
     "output_type": "display_data"
    }
   ],
=======
   "execution_count": null,
   "metadata": {
    "collapsed": false,
    "scrolled": false
   },
   "outputs": [],
>>>>>>> d6b5bd050ed7ba736b15c35bb74c4476035c8c84
   "source": [
    "# drive-wheels\n",
    "sns.boxplot(x=\"drive-wheels\", y=\"price\", data=df)"
   ]
  },
  {
   "cell_type": "markdown",
   "metadata": {},
   "source": [
    "<p>Here we see that the distribution of price between the different drive-wheels categories differs; as such drive-wheels could potentially be a predictor of price.</p>"
   ]
  },
  {
   "cell_type": "markdown",
   "metadata": {},
   "source": [
    "<h2 id=\"discriptive_statistics\">3. Descriptive Statistical Analysis</h2>"
   ]
  },
  {
   "cell_type": "markdown",
   "metadata": {},
   "source": [
    "<p>Let's first take a look at the variables by utilizing a description method.</p>\n",
    "\n",
    "<p>The <b>describe</b> function automatically computes basic statistics for all continuous variables. Any NaN values are automatically skipped in these statistics.</p>\n",
    "\n",
    "This will show:\n",
    "<ul>\n",
    "    <li>the count of that variable</li>\n",
    "    <li>the mean</li>\n",
    "    <li>the standard deviation (std)</li> \n",
    "    <li>the minimum value</li>\n",
    "    <li>the IQR (Interquartile Range: 25%, 50% and 75%)</li>\n",
    "    <li>the maximum value</li>\n",
    "<ul>\n"
   ]
  },
  {
   "cell_type": "markdown",
   "metadata": {},
   "source": [
    " We can apply the method \"describe\" as follows:"
   ]
  },
  {
   "cell_type": "code",
<<<<<<< HEAD
   "execution_count": 19,
   "metadata": {},
   "outputs": [
    {
     "data": {
      "text/html": [
       "<div>\n",
       "<style scoped>\n",
       "    .dataframe tbody tr th:only-of-type {\n",
       "        vertical-align: middle;\n",
       "    }\n",
       "\n",
       "    .dataframe tbody tr th {\n",
       "        vertical-align: top;\n",
       "    }\n",
       "\n",
       "    .dataframe thead th {\n",
       "        text-align: right;\n",
       "    }\n",
       "</style>\n",
       "<table border=\"1\" class=\"dataframe\">\n",
       "  <thead>\n",
       "    <tr style=\"text-align: right;\">\n",
       "      <th></th>\n",
       "      <th>symboling</th>\n",
       "      <th>normalized-losses</th>\n",
       "      <th>wheel-base</th>\n",
       "      <th>length</th>\n",
       "      <th>width</th>\n",
       "      <th>height</th>\n",
       "      <th>curb-weight</th>\n",
       "      <th>engine-size</th>\n",
       "      <th>bore</th>\n",
       "      <th>stroke</th>\n",
       "      <th>compression-ratio</th>\n",
       "      <th>horsepower</th>\n",
       "      <th>peak-rpm</th>\n",
       "      <th>city-mpg</th>\n",
       "      <th>highway-mpg</th>\n",
       "      <th>price</th>\n",
       "      <th>city-L/100km</th>\n",
       "      <th>diesel</th>\n",
       "      <th>gas</th>\n",
       "    </tr>\n",
       "  </thead>\n",
       "  <tbody>\n",
       "    <tr>\n",
       "      <th>count</th>\n",
       "      <td>201.000000</td>\n",
       "      <td>201.00000</td>\n",
       "      <td>201.000000</td>\n",
       "      <td>201.000000</td>\n",
       "      <td>201.000000</td>\n",
       "      <td>201.000000</td>\n",
       "      <td>201.000000</td>\n",
       "      <td>201.000000</td>\n",
       "      <td>201.000000</td>\n",
       "      <td>197.000000</td>\n",
       "      <td>201.000000</td>\n",
       "      <td>201.000000</td>\n",
       "      <td>201.000000</td>\n",
       "      <td>201.000000</td>\n",
       "      <td>201.000000</td>\n",
       "      <td>201.000000</td>\n",
       "      <td>201.000000</td>\n",
       "      <td>201.000000</td>\n",
       "      <td>201.000000</td>\n",
       "    </tr>\n",
       "    <tr>\n",
       "      <th>mean</th>\n",
       "      <td>0.840796</td>\n",
       "      <td>122.00000</td>\n",
       "      <td>98.797015</td>\n",
       "      <td>0.837102</td>\n",
       "      <td>0.915126</td>\n",
       "      <td>53.766667</td>\n",
       "      <td>2555.666667</td>\n",
       "      <td>126.875622</td>\n",
       "      <td>3.330692</td>\n",
       "      <td>3.256904</td>\n",
       "      <td>10.164279</td>\n",
       "      <td>103.405534</td>\n",
       "      <td>5117.665368</td>\n",
       "      <td>25.179104</td>\n",
       "      <td>30.686567</td>\n",
       "      <td>13207.129353</td>\n",
       "      <td>9.944145</td>\n",
       "      <td>0.099502</td>\n",
       "      <td>0.900498</td>\n",
       "    </tr>\n",
       "    <tr>\n",
       "      <th>std</th>\n",
       "      <td>1.254802</td>\n",
       "      <td>31.99625</td>\n",
       "      <td>6.066366</td>\n",
       "      <td>0.059213</td>\n",
       "      <td>0.029187</td>\n",
       "      <td>2.447822</td>\n",
       "      <td>517.296727</td>\n",
       "      <td>41.546834</td>\n",
       "      <td>0.268072</td>\n",
       "      <td>0.319256</td>\n",
       "      <td>4.004965</td>\n",
       "      <td>37.365700</td>\n",
       "      <td>478.113805</td>\n",
       "      <td>6.423220</td>\n",
       "      <td>6.815150</td>\n",
       "      <td>7947.066342</td>\n",
       "      <td>2.534599</td>\n",
       "      <td>0.300083</td>\n",
       "      <td>0.300083</td>\n",
       "    </tr>\n",
       "    <tr>\n",
       "      <th>min</th>\n",
       "      <td>-2.000000</td>\n",
       "      <td>65.00000</td>\n",
       "      <td>86.600000</td>\n",
       "      <td>0.678039</td>\n",
       "      <td>0.837500</td>\n",
       "      <td>47.800000</td>\n",
       "      <td>1488.000000</td>\n",
       "      <td>61.000000</td>\n",
       "      <td>2.540000</td>\n",
       "      <td>2.070000</td>\n",
       "      <td>7.000000</td>\n",
       "      <td>48.000000</td>\n",
       "      <td>4150.000000</td>\n",
       "      <td>13.000000</td>\n",
       "      <td>16.000000</td>\n",
       "      <td>5118.000000</td>\n",
       "      <td>4.795918</td>\n",
       "      <td>0.000000</td>\n",
       "      <td>0.000000</td>\n",
       "    </tr>\n",
       "    <tr>\n",
       "      <th>25%</th>\n",
       "      <td>0.000000</td>\n",
       "      <td>101.00000</td>\n",
       "      <td>94.500000</td>\n",
       "      <td>0.801538</td>\n",
       "      <td>0.890278</td>\n",
       "      <td>52.000000</td>\n",
       "      <td>2169.000000</td>\n",
       "      <td>98.000000</td>\n",
       "      <td>3.150000</td>\n",
       "      <td>3.110000</td>\n",
       "      <td>8.600000</td>\n",
       "      <td>70.000000</td>\n",
       "      <td>4800.000000</td>\n",
       "      <td>19.000000</td>\n",
       "      <td>25.000000</td>\n",
       "      <td>7775.000000</td>\n",
       "      <td>7.833333</td>\n",
       "      <td>0.000000</td>\n",
       "      <td>1.000000</td>\n",
       "    </tr>\n",
       "    <tr>\n",
       "      <th>50%</th>\n",
       "      <td>1.000000</td>\n",
       "      <td>122.00000</td>\n",
       "      <td>97.000000</td>\n",
       "      <td>0.832292</td>\n",
       "      <td>0.909722</td>\n",
       "      <td>54.100000</td>\n",
       "      <td>2414.000000</td>\n",
       "      <td>120.000000</td>\n",
       "      <td>3.310000</td>\n",
       "      <td>3.290000</td>\n",
       "      <td>9.000000</td>\n",
       "      <td>95.000000</td>\n",
       "      <td>5125.369458</td>\n",
       "      <td>24.000000</td>\n",
       "      <td>30.000000</td>\n",
       "      <td>10295.000000</td>\n",
       "      <td>9.791667</td>\n",
       "      <td>0.000000</td>\n",
       "      <td>1.000000</td>\n",
       "    </tr>\n",
       "    <tr>\n",
       "      <th>75%</th>\n",
       "      <td>2.000000</td>\n",
       "      <td>137.00000</td>\n",
       "      <td>102.400000</td>\n",
       "      <td>0.881788</td>\n",
       "      <td>0.925000</td>\n",
       "      <td>55.500000</td>\n",
       "      <td>2926.000000</td>\n",
       "      <td>141.000000</td>\n",
       "      <td>3.580000</td>\n",
       "      <td>3.410000</td>\n",
       "      <td>9.400000</td>\n",
       "      <td>116.000000</td>\n",
       "      <td>5500.000000</td>\n",
       "      <td>30.000000</td>\n",
       "      <td>34.000000</td>\n",
       "      <td>16500.000000</td>\n",
       "      <td>12.368421</td>\n",
       "      <td>0.000000</td>\n",
       "      <td>1.000000</td>\n",
       "    </tr>\n",
       "    <tr>\n",
       "      <th>max</th>\n",
       "      <td>3.000000</td>\n",
       "      <td>256.00000</td>\n",
       "      <td>120.900000</td>\n",
       "      <td>1.000000</td>\n",
       "      <td>1.000000</td>\n",
       "      <td>59.800000</td>\n",
       "      <td>4066.000000</td>\n",
       "      <td>326.000000</td>\n",
       "      <td>3.940000</td>\n",
       "      <td>4.170000</td>\n",
       "      <td>23.000000</td>\n",
       "      <td>262.000000</td>\n",
       "      <td>6600.000000</td>\n",
       "      <td>49.000000</td>\n",
       "      <td>54.000000</td>\n",
       "      <td>45400.000000</td>\n",
       "      <td>18.076923</td>\n",
       "      <td>1.000000</td>\n",
       "      <td>1.000000</td>\n",
       "    </tr>\n",
       "  </tbody>\n",
       "</table>\n",
       "</div>"
      ],
      "text/plain": [
       "        symboling  normalized-losses  wheel-base      length       width  \\\n",
       "count  201.000000          201.00000  201.000000  201.000000  201.000000   \n",
       "mean     0.840796          122.00000   98.797015    0.837102    0.915126   \n",
       "std      1.254802           31.99625    6.066366    0.059213    0.029187   \n",
       "min     -2.000000           65.00000   86.600000    0.678039    0.837500   \n",
       "25%      0.000000          101.00000   94.500000    0.801538    0.890278   \n",
       "50%      1.000000          122.00000   97.000000    0.832292    0.909722   \n",
       "75%      2.000000          137.00000  102.400000    0.881788    0.925000   \n",
       "max      3.000000          256.00000  120.900000    1.000000    1.000000   \n",
       "\n",
       "           height  curb-weight  engine-size        bore      stroke  \\\n",
       "count  201.000000   201.000000   201.000000  201.000000  197.000000   \n",
       "mean    53.766667  2555.666667   126.875622    3.330692    3.256904   \n",
       "std      2.447822   517.296727    41.546834    0.268072    0.319256   \n",
       "min     47.800000  1488.000000    61.000000    2.540000    2.070000   \n",
       "25%     52.000000  2169.000000    98.000000    3.150000    3.110000   \n",
       "50%     54.100000  2414.000000   120.000000    3.310000    3.290000   \n",
       "75%     55.500000  2926.000000   141.000000    3.580000    3.410000   \n",
       "max     59.800000  4066.000000   326.000000    3.940000    4.170000   \n",
       "\n",
       "       compression-ratio  horsepower     peak-rpm    city-mpg  highway-mpg  \\\n",
       "count         201.000000  201.000000   201.000000  201.000000   201.000000   \n",
       "mean           10.164279  103.405534  5117.665368   25.179104    30.686567   \n",
       "std             4.004965   37.365700   478.113805    6.423220     6.815150   \n",
       "min             7.000000   48.000000  4150.000000   13.000000    16.000000   \n",
       "25%             8.600000   70.000000  4800.000000   19.000000    25.000000   \n",
       "50%             9.000000   95.000000  5125.369458   24.000000    30.000000   \n",
       "75%             9.400000  116.000000  5500.000000   30.000000    34.000000   \n",
       "max            23.000000  262.000000  6600.000000   49.000000    54.000000   \n",
       "\n",
       "              price  city-L/100km      diesel         gas  \n",
       "count    201.000000    201.000000  201.000000  201.000000  \n",
       "mean   13207.129353      9.944145    0.099502    0.900498  \n",
       "std     7947.066342      2.534599    0.300083    0.300083  \n",
       "min     5118.000000      4.795918    0.000000    0.000000  \n",
       "25%     7775.000000      7.833333    0.000000    1.000000  \n",
       "50%    10295.000000      9.791667    0.000000    1.000000  \n",
       "75%    16500.000000     12.368421    0.000000    1.000000  \n",
       "max    45400.000000     18.076923    1.000000    1.000000  "
      ]
     },
     "execution_count": 19,
     "metadata": {},
     "output_type": "execute_result"
    }
   ],
=======
   "execution_count": null,
   "metadata": {
    "collapsed": false
   },
   "outputs": [],
>>>>>>> d6b5bd050ed7ba736b15c35bb74c4476035c8c84
   "source": [
    "df.describe()"
   ]
  },
  {
   "cell_type": "markdown",
   "metadata": {},
   "source": [
    " The default setting of \"describe\" skips variables of type object. We can apply the method \"describe\" on the variables of type 'object' as follows:"
   ]
  },
  {
   "cell_type": "code",
<<<<<<< HEAD
   "execution_count": 20,
   "metadata": {
    "scrolled": true
   },
   "outputs": [
    {
     "data": {
      "text/html": [
       "<div>\n",
       "<style scoped>\n",
       "    .dataframe tbody tr th:only-of-type {\n",
       "        vertical-align: middle;\n",
       "    }\n",
       "\n",
       "    .dataframe tbody tr th {\n",
       "        vertical-align: top;\n",
       "    }\n",
       "\n",
       "    .dataframe thead th {\n",
       "        text-align: right;\n",
       "    }\n",
       "</style>\n",
       "<table border=\"1\" class=\"dataframe\">\n",
       "  <thead>\n",
       "    <tr style=\"text-align: right;\">\n",
       "      <th></th>\n",
       "      <th>make</th>\n",
       "      <th>aspiration</th>\n",
       "      <th>num-of-doors</th>\n",
       "      <th>body-style</th>\n",
       "      <th>drive-wheels</th>\n",
       "      <th>engine-location</th>\n",
       "      <th>engine-type</th>\n",
       "      <th>num-of-cylinders</th>\n",
       "      <th>fuel-system</th>\n",
       "      <th>horsepower-binned</th>\n",
       "    </tr>\n",
       "  </thead>\n",
       "  <tbody>\n",
       "    <tr>\n",
       "      <th>count</th>\n",
       "      <td>201</td>\n",
       "      <td>201</td>\n",
       "      <td>201</td>\n",
       "      <td>201</td>\n",
       "      <td>201</td>\n",
       "      <td>201</td>\n",
       "      <td>201</td>\n",
       "      <td>201</td>\n",
       "      <td>201</td>\n",
       "      <td>200</td>\n",
       "    </tr>\n",
       "    <tr>\n",
       "      <th>unique</th>\n",
       "      <td>22</td>\n",
       "      <td>2</td>\n",
       "      <td>2</td>\n",
       "      <td>5</td>\n",
       "      <td>3</td>\n",
       "      <td>2</td>\n",
       "      <td>6</td>\n",
       "      <td>7</td>\n",
       "      <td>8</td>\n",
       "      <td>3</td>\n",
       "    </tr>\n",
       "    <tr>\n",
       "      <th>top</th>\n",
       "      <td>toyota</td>\n",
       "      <td>std</td>\n",
       "      <td>four</td>\n",
       "      <td>sedan</td>\n",
       "      <td>fwd</td>\n",
       "      <td>front</td>\n",
       "      <td>ohc</td>\n",
       "      <td>four</td>\n",
       "      <td>mpfi</td>\n",
       "      <td>Low</td>\n",
       "    </tr>\n",
       "    <tr>\n",
       "      <th>freq</th>\n",
       "      <td>32</td>\n",
       "      <td>165</td>\n",
       "      <td>115</td>\n",
       "      <td>94</td>\n",
       "      <td>118</td>\n",
       "      <td>198</td>\n",
       "      <td>145</td>\n",
       "      <td>157</td>\n",
       "      <td>92</td>\n",
       "      <td>115</td>\n",
       "    </tr>\n",
       "  </tbody>\n",
       "</table>\n",
       "</div>"
      ],
      "text/plain": [
       "          make aspiration num-of-doors body-style drive-wheels  \\\n",
       "count      201        201          201        201          201   \n",
       "unique      22          2            2          5            3   \n",
       "top     toyota        std         four      sedan          fwd   \n",
       "freq        32        165          115         94          118   \n",
       "\n",
       "       engine-location engine-type num-of-cylinders fuel-system  \\\n",
       "count              201         201              201         201   \n",
       "unique               2           6                7           8   \n",
       "top              front         ohc             four        mpfi   \n",
       "freq               198         145              157          92   \n",
       "\n",
       "       horsepower-binned  \n",
       "count                200  \n",
       "unique                 3  \n",
       "top                  Low  \n",
       "freq                 115  "
      ]
     },
     "execution_count": 20,
     "metadata": {},
     "output_type": "execute_result"
    }
   ],
=======
   "execution_count": null,
   "metadata": {
    "collapsed": false,
    "scrolled": true
   },
   "outputs": [],
>>>>>>> d6b5bd050ed7ba736b15c35bb74c4476035c8c84
   "source": [
    "df.describe(include=['object'])"
   ]
  },
  {
   "cell_type": "markdown",
   "metadata": {},
   "source": [
    "<h3>Value Counts</h3>"
   ]
  },
  {
   "cell_type": "markdown",
   "metadata": {},
   "source": [
    "<p>Value-counts is a good way of understanding how many units of each characteristic/variable we have. We can apply the \"value_counts\" method on the column 'drive-wheels'. Don’t forget the method \"value_counts\" only works on Pandas series, not Pandas Dataframes. As a result, we only include one bracket \"df['drive-wheels']\" not two brackets \"df[['drive-wheels']]\".</p>"
   ]
  },
  {
   "cell_type": "code",
<<<<<<< HEAD
   "execution_count": 21,
   "metadata": {},
   "outputs": [
    {
     "data": {
      "text/plain": [
       "fwd    118\n",
       "rwd     75\n",
       "4wd      8\n",
       "Name: drive-wheels, dtype: int64"
      ]
     },
     "execution_count": 21,
     "metadata": {},
     "output_type": "execute_result"
    }
   ],
=======
   "execution_count": null,
   "metadata": {
    "collapsed": false
   },
   "outputs": [],
>>>>>>> d6b5bd050ed7ba736b15c35bb74c4476035c8c84
   "source": [
    "df['drive-wheels'].value_counts()"
   ]
  },
  {
   "cell_type": "markdown",
   "metadata": {},
   "source": [
    "We can convert the series to a Dataframe as follows :"
   ]
  },
  {
   "cell_type": "code",
<<<<<<< HEAD
   "execution_count": 22,
   "metadata": {},
   "outputs": [
    {
     "data": {
      "text/html": [
       "<div>\n",
       "<style scoped>\n",
       "    .dataframe tbody tr th:only-of-type {\n",
       "        vertical-align: middle;\n",
       "    }\n",
       "\n",
       "    .dataframe tbody tr th {\n",
       "        vertical-align: top;\n",
       "    }\n",
       "\n",
       "    .dataframe thead th {\n",
       "        text-align: right;\n",
       "    }\n",
       "</style>\n",
       "<table border=\"1\" class=\"dataframe\">\n",
       "  <thead>\n",
       "    <tr style=\"text-align: right;\">\n",
       "      <th></th>\n",
       "      <th>drive-wheels</th>\n",
       "    </tr>\n",
       "  </thead>\n",
       "  <tbody>\n",
       "    <tr>\n",
       "      <th>fwd</th>\n",
       "      <td>118</td>\n",
       "    </tr>\n",
       "    <tr>\n",
       "      <th>rwd</th>\n",
       "      <td>75</td>\n",
       "    </tr>\n",
       "    <tr>\n",
       "      <th>4wd</th>\n",
       "      <td>8</td>\n",
       "    </tr>\n",
       "  </tbody>\n",
       "</table>\n",
       "</div>"
      ],
      "text/plain": [
       "     drive-wheels\n",
       "fwd           118\n",
       "rwd            75\n",
       "4wd             8"
      ]
     },
     "execution_count": 22,
     "metadata": {},
     "output_type": "execute_result"
    }
   ],
=======
   "execution_count": null,
   "metadata": {
    "collapsed": false
   },
   "outputs": [],
>>>>>>> d6b5bd050ed7ba736b15c35bb74c4476035c8c84
   "source": [
    "df['drive-wheels'].value_counts().to_frame()"
   ]
  },
  {
   "cell_type": "markdown",
   "metadata": {},
   "source": [
    "Let's repeat the above steps but save the results to the dataframe \"drive_wheels_counts\" and rename the column  'drive-wheels' to 'value_counts'."
   ]
  },
  {
   "cell_type": "code",
<<<<<<< HEAD
   "execution_count": 23,
   "metadata": {},
   "outputs": [
    {
     "data": {
      "text/html": [
       "<div>\n",
       "<style scoped>\n",
       "    .dataframe tbody tr th:only-of-type {\n",
       "        vertical-align: middle;\n",
       "    }\n",
       "\n",
       "    .dataframe tbody tr th {\n",
       "        vertical-align: top;\n",
       "    }\n",
       "\n",
       "    .dataframe thead th {\n",
       "        text-align: right;\n",
       "    }\n",
       "</style>\n",
       "<table border=\"1\" class=\"dataframe\">\n",
       "  <thead>\n",
       "    <tr style=\"text-align: right;\">\n",
       "      <th></th>\n",
       "      <th>value_counts</th>\n",
       "    </tr>\n",
       "  </thead>\n",
       "  <tbody>\n",
       "    <tr>\n",
       "      <th>fwd</th>\n",
       "      <td>118</td>\n",
       "    </tr>\n",
       "    <tr>\n",
       "      <th>rwd</th>\n",
       "      <td>75</td>\n",
       "    </tr>\n",
       "    <tr>\n",
       "      <th>4wd</th>\n",
       "      <td>8</td>\n",
       "    </tr>\n",
       "  </tbody>\n",
       "</table>\n",
       "</div>"
      ],
      "text/plain": [
       "     value_counts\n",
       "fwd           118\n",
       "rwd            75\n",
       "4wd             8"
      ]
     },
     "execution_count": 23,
     "metadata": {},
     "output_type": "execute_result"
    }
   ],
=======
   "execution_count": null,
   "metadata": {
    "collapsed": false
   },
   "outputs": [],
>>>>>>> d6b5bd050ed7ba736b15c35bb74c4476035c8c84
   "source": [
    "drive_wheels_counts = df['drive-wheels'].value_counts().to_frame()\n",
    "drive_wheels_counts.rename(columns={'drive-wheels': 'value_counts'}, inplace=True)\n",
    "drive_wheels_counts"
   ]
  },
  {
   "cell_type": "markdown",
   "metadata": {},
   "source": [
    " Now let's rename the index to 'drive-wheels':"
   ]
  },
  {
   "cell_type": "code",
<<<<<<< HEAD
   "execution_count": 24,
   "metadata": {},
   "outputs": [
    {
     "data": {
      "text/html": [
       "<div>\n",
       "<style scoped>\n",
       "    .dataframe tbody tr th:only-of-type {\n",
       "        vertical-align: middle;\n",
       "    }\n",
       "\n",
       "    .dataframe tbody tr th {\n",
       "        vertical-align: top;\n",
       "    }\n",
       "\n",
       "    .dataframe thead th {\n",
       "        text-align: right;\n",
       "    }\n",
       "</style>\n",
       "<table border=\"1\" class=\"dataframe\">\n",
       "  <thead>\n",
       "    <tr style=\"text-align: right;\">\n",
       "      <th></th>\n",
       "      <th>value_counts</th>\n",
       "    </tr>\n",
       "    <tr>\n",
       "      <th>drive-wheels</th>\n",
       "      <th></th>\n",
       "    </tr>\n",
       "  </thead>\n",
       "  <tbody>\n",
       "    <tr>\n",
       "      <th>fwd</th>\n",
       "      <td>118</td>\n",
       "    </tr>\n",
       "    <tr>\n",
       "      <th>rwd</th>\n",
       "      <td>75</td>\n",
       "    </tr>\n",
       "    <tr>\n",
       "      <th>4wd</th>\n",
       "      <td>8</td>\n",
       "    </tr>\n",
       "  </tbody>\n",
       "</table>\n",
       "</div>"
      ],
      "text/plain": [
       "              value_counts\n",
       "drive-wheels              \n",
       "fwd                    118\n",
       "rwd                     75\n",
       "4wd                      8"
      ]
     },
     "execution_count": 24,
     "metadata": {},
     "output_type": "execute_result"
    }
   ],
=======
   "execution_count": null,
   "metadata": {
    "collapsed": false
   },
   "outputs": [],
>>>>>>> d6b5bd050ed7ba736b15c35bb74c4476035c8c84
   "source": [
    "drive_wheels_counts.index.name = 'drive-wheels'\n",
    "drive_wheels_counts"
   ]
  },
  {
   "cell_type": "markdown",
   "metadata": {},
   "source": [
    "We can repeat the above process for the variable 'engine-location'."
   ]
  },
  {
   "cell_type": "code",
<<<<<<< HEAD
   "execution_count": 25,
   "metadata": {},
   "outputs": [
    {
     "data": {
      "text/html": [
       "<div>\n",
       "<style scoped>\n",
       "    .dataframe tbody tr th:only-of-type {\n",
       "        vertical-align: middle;\n",
       "    }\n",
       "\n",
       "    .dataframe tbody tr th {\n",
       "        vertical-align: top;\n",
       "    }\n",
       "\n",
       "    .dataframe thead th {\n",
       "        text-align: right;\n",
       "    }\n",
       "</style>\n",
       "<table border=\"1\" class=\"dataframe\">\n",
       "  <thead>\n",
       "    <tr style=\"text-align: right;\">\n",
       "      <th></th>\n",
       "      <th>value_counts</th>\n",
       "    </tr>\n",
       "    <tr>\n",
       "      <th>engine-location</th>\n",
       "      <th></th>\n",
       "    </tr>\n",
       "  </thead>\n",
       "  <tbody>\n",
       "    <tr>\n",
       "      <th>front</th>\n",
       "      <td>198</td>\n",
       "    </tr>\n",
       "    <tr>\n",
       "      <th>rear</th>\n",
       "      <td>3</td>\n",
       "    </tr>\n",
       "  </tbody>\n",
       "</table>\n",
       "</div>"
      ],
      "text/plain": [
       "                 value_counts\n",
       "engine-location              \n",
       "front                     198\n",
       "rear                        3"
      ]
     },
     "execution_count": 25,
     "metadata": {},
     "output_type": "execute_result"
    }
   ],
=======
   "execution_count": null,
   "metadata": {
    "collapsed": false
   },
   "outputs": [],
>>>>>>> d6b5bd050ed7ba736b15c35bb74c4476035c8c84
   "source": [
    "# engine-location as variable\n",
    "engine_loc_counts = df['engine-location'].value_counts().to_frame()\n",
    "engine_loc_counts.rename(columns={'engine-location': 'value_counts'}, inplace=True)\n",
    "engine_loc_counts.index.name = 'engine-location'\n",
    "engine_loc_counts.head(10)"
   ]
  },
  {
   "cell_type": "markdown",
   "metadata": {},
   "source": [
    "<p>Examining the value counts of the engine location would not be a good predictor variable for the price. This is because we only have three cars with a rear engine and 198 with an engine in the front, this result is skewed. Thus, we are not able to draw any conclusions about the engine location.</p>"
   ]
  },
  {
   "cell_type": "markdown",
   "metadata": {},
   "source": [
    "<h2 id=\"basic_grouping\">4. Basics of Grouping</h2>"
   ]
  },
  {
   "cell_type": "markdown",
   "metadata": {},
   "source": [
    "<p>The \"groupby\" method groups data by different categories. The data is grouped based on one or several variables and analysis is performed on the individual groups.</p>\n",
    "\n",
    "<p>For example, let's group by the variable \"drive-wheels\". We see that there are 3 different categories of drive wheels.</p>"
   ]
  },
  {
   "cell_type": "code",
<<<<<<< HEAD
   "execution_count": 26,
   "metadata": {},
   "outputs": [
    {
     "data": {
      "text/plain": [
       "array(['rwd', 'fwd', '4wd'], dtype=object)"
      ]
     },
     "execution_count": 26,
     "metadata": {},
     "output_type": "execute_result"
    }
   ],
=======
   "execution_count": null,
   "metadata": {
    "collapsed": false
   },
   "outputs": [],
>>>>>>> d6b5bd050ed7ba736b15c35bb74c4476035c8c84
   "source": [
    "df['drive-wheels'].unique()"
   ]
  },
  {
   "cell_type": "markdown",
   "metadata": {},
   "source": [
    "<p>If we want to know, on average, which type of drive wheel is most valuable, we can group \"drive-wheels\" and then average them.</p>\n",
    "\n",
    "<p>We can select the columns 'drive-wheels', 'body-style' and 'price', then assign it to the variable \"df_group_one\".</p>"
   ]
  },
  {
   "cell_type": "code",
<<<<<<< HEAD
   "execution_count": 27,
   "metadata": {},
=======
   "execution_count": null,
   "metadata": {
    "collapsed": true
   },
>>>>>>> d6b5bd050ed7ba736b15c35bb74c4476035c8c84
   "outputs": [],
   "source": [
    "df_group_one = df[['drive-wheels','body-style','price']]"
   ]
  },
  {
   "cell_type": "markdown",
   "metadata": {},
   "source": [
    "We can then calculate the average price for each of the different categories of data."
   ]
  },
  {
   "cell_type": "code",
<<<<<<< HEAD
   "execution_count": 28,
   "metadata": {},
   "outputs": [
    {
     "data": {
      "text/html": [
       "<div>\n",
       "<style scoped>\n",
       "    .dataframe tbody tr th:only-of-type {\n",
       "        vertical-align: middle;\n",
       "    }\n",
       "\n",
       "    .dataframe tbody tr th {\n",
       "        vertical-align: top;\n",
       "    }\n",
       "\n",
       "    .dataframe thead th {\n",
       "        text-align: right;\n",
       "    }\n",
       "</style>\n",
       "<table border=\"1\" class=\"dataframe\">\n",
       "  <thead>\n",
       "    <tr style=\"text-align: right;\">\n",
       "      <th></th>\n",
       "      <th>drive-wheels</th>\n",
       "      <th>price</th>\n",
       "    </tr>\n",
       "  </thead>\n",
       "  <tbody>\n",
       "    <tr>\n",
       "      <th>0</th>\n",
       "      <td>4wd</td>\n",
       "      <td>10241.000000</td>\n",
       "    </tr>\n",
       "    <tr>\n",
       "      <th>1</th>\n",
       "      <td>fwd</td>\n",
       "      <td>9244.779661</td>\n",
       "    </tr>\n",
       "    <tr>\n",
       "      <th>2</th>\n",
       "      <td>rwd</td>\n",
       "      <td>19757.613333</td>\n",
       "    </tr>\n",
       "  </tbody>\n",
       "</table>\n",
       "</div>"
      ],
      "text/plain": [
       "  drive-wheels         price\n",
       "0          4wd  10241.000000\n",
       "1          fwd   9244.779661\n",
       "2          rwd  19757.613333"
      ]
     },
     "execution_count": 28,
     "metadata": {},
     "output_type": "execute_result"
    }
   ],
=======
   "execution_count": null,
   "metadata": {
    "collapsed": false
   },
   "outputs": [],
>>>>>>> d6b5bd050ed7ba736b15c35bb74c4476035c8c84
   "source": [
    "# grouping results\n",
    "df_group_one = df_group_one.groupby(['drive-wheels'],as_index=False).mean()\n",
    "df_group_one"
   ]
  },
  {
   "cell_type": "markdown",
   "metadata": {},
   "source": [
    "<p>From our data, it seems rear-wheel drive vehicles are, on average, the most expensive, while 4-wheel and front-wheel are approximately the same in price.</p>\n",
    "\n",
    "<p>You can also group with multiple variables. For example, let's group by both 'drive-wheels' and 'body-style'. This groups the dataframe by the unique combinations 'drive-wheels' and 'body-style'. We can store the results in the variable 'grouped_test1'.</p>"
   ]
  },
  {
   "cell_type": "code",
<<<<<<< HEAD
   "execution_count": 30,
   "metadata": {},
   "outputs": [
    {
     "data": {
      "text/html": [
       "<div>\n",
       "<style scoped>\n",
       "    .dataframe tbody tr th:only-of-type {\n",
       "        vertical-align: middle;\n",
       "    }\n",
       "\n",
       "    .dataframe tbody tr th {\n",
       "        vertical-align: top;\n",
       "    }\n",
       "\n",
       "    .dataframe thead th {\n",
       "        text-align: right;\n",
       "    }\n",
       "</style>\n",
       "<table border=\"1\" class=\"dataframe\">\n",
       "  <thead>\n",
       "    <tr style=\"text-align: right;\">\n",
       "      <th></th>\n",
       "      <th>drive-wheels</th>\n",
       "      <th>body-style</th>\n",
       "      <th>price</th>\n",
       "    </tr>\n",
       "  </thead>\n",
       "  <tbody>\n",
       "    <tr>\n",
       "      <th>0</th>\n",
       "      <td>4wd</td>\n",
       "      <td>hatchback</td>\n",
       "      <td>7603.000000</td>\n",
       "    </tr>\n",
       "    <tr>\n",
       "      <th>1</th>\n",
       "      <td>4wd</td>\n",
       "      <td>sedan</td>\n",
       "      <td>12647.333333</td>\n",
       "    </tr>\n",
       "    <tr>\n",
       "      <th>2</th>\n",
       "      <td>4wd</td>\n",
       "      <td>wagon</td>\n",
       "      <td>9095.750000</td>\n",
       "    </tr>\n",
       "    <tr>\n",
       "      <th>3</th>\n",
       "      <td>fwd</td>\n",
       "      <td>convertible</td>\n",
       "      <td>11595.000000</td>\n",
       "    </tr>\n",
       "    <tr>\n",
       "      <th>4</th>\n",
       "      <td>fwd</td>\n",
       "      <td>hardtop</td>\n",
       "      <td>8249.000000</td>\n",
       "    </tr>\n",
       "    <tr>\n",
       "      <th>5</th>\n",
       "      <td>fwd</td>\n",
       "      <td>hatchback</td>\n",
       "      <td>8396.387755</td>\n",
       "    </tr>\n",
       "    <tr>\n",
       "      <th>6</th>\n",
       "      <td>fwd</td>\n",
       "      <td>sedan</td>\n",
       "      <td>9811.800000</td>\n",
       "    </tr>\n",
       "    <tr>\n",
       "      <th>7</th>\n",
       "      <td>fwd</td>\n",
       "      <td>wagon</td>\n",
       "      <td>9997.333333</td>\n",
       "    </tr>\n",
       "    <tr>\n",
       "      <th>8</th>\n",
       "      <td>rwd</td>\n",
       "      <td>convertible</td>\n",
       "      <td>23949.600000</td>\n",
       "    </tr>\n",
       "    <tr>\n",
       "      <th>9</th>\n",
       "      <td>rwd</td>\n",
       "      <td>hardtop</td>\n",
       "      <td>24202.714286</td>\n",
       "    </tr>\n",
       "    <tr>\n",
       "      <th>10</th>\n",
       "      <td>rwd</td>\n",
       "      <td>hatchback</td>\n",
       "      <td>14337.777778</td>\n",
       "    </tr>\n",
       "    <tr>\n",
       "      <th>11</th>\n",
       "      <td>rwd</td>\n",
       "      <td>sedan</td>\n",
       "      <td>21711.833333</td>\n",
       "    </tr>\n",
       "    <tr>\n",
       "      <th>12</th>\n",
       "      <td>rwd</td>\n",
       "      <td>wagon</td>\n",
       "      <td>16994.222222</td>\n",
       "    </tr>\n",
       "  </tbody>\n",
       "</table>\n",
       "</div>"
      ],
      "text/plain": [
       "   drive-wheels   body-style         price\n",
       "0           4wd    hatchback   7603.000000\n",
       "1           4wd        sedan  12647.333333\n",
       "2           4wd        wagon   9095.750000\n",
       "3           fwd  convertible  11595.000000\n",
       "4           fwd      hardtop   8249.000000\n",
       "5           fwd    hatchback   8396.387755\n",
       "6           fwd        sedan   9811.800000\n",
       "7           fwd        wagon   9997.333333\n",
       "8           rwd  convertible  23949.600000\n",
       "9           rwd      hardtop  24202.714286\n",
       "10          rwd    hatchback  14337.777778\n",
       "11          rwd        sedan  21711.833333\n",
       "12          rwd        wagon  16994.222222"
      ]
     },
     "execution_count": 30,
     "metadata": {},
     "output_type": "execute_result"
    }
   ],
=======
   "execution_count": null,
   "metadata": {
    "collapsed": false
   },
   "outputs": [],
>>>>>>> d6b5bd050ed7ba736b15c35bb74c4476035c8c84
   "source": [
    "# grouping results\n",
    "df_gptest = df[['drive-wheels','body-style','price']]\n",
    "grouped_test1 = df_gptest.groupby(['drive-wheels','body-style'],as_index=False).mean()\n",
    "grouped_test1"
   ]
  },
  {
   "cell_type": "markdown",
   "metadata": {},
   "source": [
    "<p>This grouped data is much easier to visualize when it is made into a pivot table. A pivot table is like an Excel spreadsheet, with one variable along the column and another along the row. We can convert the dataframe to a pivot table using the method \"pivot \" to create a pivot table from the groups.</p>\n",
    "\n",
    "<p>In this case, we will leave the drive-wheel variable as the rows of the table, and pivot body-style to become the columns of the table:</p>"
   ]
  },
  {
   "cell_type": "code",
<<<<<<< HEAD
   "execution_count": 31,
   "metadata": {},
   "outputs": [
    {
     "data": {
      "text/html": [
       "<div>\n",
       "<style scoped>\n",
       "    .dataframe tbody tr th:only-of-type {\n",
       "        vertical-align: middle;\n",
       "    }\n",
       "\n",
       "    .dataframe tbody tr th {\n",
       "        vertical-align: top;\n",
       "    }\n",
       "\n",
       "    .dataframe thead tr th {\n",
       "        text-align: left;\n",
       "    }\n",
       "\n",
       "    .dataframe thead tr:last-of-type th {\n",
       "        text-align: right;\n",
       "    }\n",
       "</style>\n",
       "<table border=\"1\" class=\"dataframe\">\n",
       "  <thead>\n",
       "    <tr>\n",
       "      <th></th>\n",
       "      <th colspan=\"5\" halign=\"left\">price</th>\n",
       "    </tr>\n",
       "    <tr>\n",
       "      <th>body-style</th>\n",
       "      <th>convertible</th>\n",
       "      <th>hardtop</th>\n",
       "      <th>hatchback</th>\n",
       "      <th>sedan</th>\n",
       "      <th>wagon</th>\n",
       "    </tr>\n",
       "    <tr>\n",
       "      <th>drive-wheels</th>\n",
       "      <th></th>\n",
       "      <th></th>\n",
       "      <th></th>\n",
       "      <th></th>\n",
       "      <th></th>\n",
       "    </tr>\n",
       "  </thead>\n",
       "  <tbody>\n",
       "    <tr>\n",
       "      <th>4wd</th>\n",
       "      <td>NaN</td>\n",
       "      <td>NaN</td>\n",
       "      <td>7603.000000</td>\n",
       "      <td>12647.333333</td>\n",
       "      <td>9095.750000</td>\n",
       "    </tr>\n",
       "    <tr>\n",
       "      <th>fwd</th>\n",
       "      <td>11595.0</td>\n",
       "      <td>8249.000000</td>\n",
       "      <td>8396.387755</td>\n",
       "      <td>9811.800000</td>\n",
       "      <td>9997.333333</td>\n",
       "    </tr>\n",
       "    <tr>\n",
       "      <th>rwd</th>\n",
       "      <td>23949.6</td>\n",
       "      <td>24202.714286</td>\n",
       "      <td>14337.777778</td>\n",
       "      <td>21711.833333</td>\n",
       "      <td>16994.222222</td>\n",
       "    </tr>\n",
       "  </tbody>\n",
       "</table>\n",
       "</div>"
      ],
      "text/plain": [
       "                   price                                            \\\n",
       "body-style   convertible       hardtop     hatchback         sedan   \n",
       "drive-wheels                                                         \n",
       "4wd                  NaN           NaN   7603.000000  12647.333333   \n",
       "fwd              11595.0   8249.000000   8396.387755   9811.800000   \n",
       "rwd              23949.6  24202.714286  14337.777778  21711.833333   \n",
       "\n",
       "                            \n",
       "body-style           wagon  \n",
       "drive-wheels                \n",
       "4wd            9095.750000  \n",
       "fwd            9997.333333  \n",
       "rwd           16994.222222  "
      ]
     },
     "execution_count": 31,
     "metadata": {},
     "output_type": "execute_result"
    }
   ],
=======
   "execution_count": null,
   "metadata": {
    "collapsed": false
   },
   "outputs": [],
>>>>>>> d6b5bd050ed7ba736b15c35bb74c4476035c8c84
   "source": [
    "grouped_pivot = grouped_test1.pivot(index='drive-wheels',columns='body-style')\n",
    "grouped_pivot"
   ]
  },
  {
   "cell_type": "markdown",
   "metadata": {},
   "source": [
    "<p>Often, we won't have data for some of the pivot cells. We can fill these missing cells with the value 0, but any other value could potentially be used as well. It should be mentioned that missing data is quite a complex subject and is an entire course on its own.</p>"
   ]
  },
  {
   "cell_type": "code",
<<<<<<< HEAD
   "execution_count": 32,
   "metadata": {
    "scrolled": true
   },
   "outputs": [
    {
     "data": {
      "text/html": [
       "<div>\n",
       "<style scoped>\n",
       "    .dataframe tbody tr th:only-of-type {\n",
       "        vertical-align: middle;\n",
       "    }\n",
       "\n",
       "    .dataframe tbody tr th {\n",
       "        vertical-align: top;\n",
       "    }\n",
       "\n",
       "    .dataframe thead tr th {\n",
       "        text-align: left;\n",
       "    }\n",
       "\n",
       "    .dataframe thead tr:last-of-type th {\n",
       "        text-align: right;\n",
       "    }\n",
       "</style>\n",
       "<table border=\"1\" class=\"dataframe\">\n",
       "  <thead>\n",
       "    <tr>\n",
       "      <th></th>\n",
       "      <th colspan=\"5\" halign=\"left\">price</th>\n",
       "    </tr>\n",
       "    <tr>\n",
       "      <th>body-style</th>\n",
       "      <th>convertible</th>\n",
       "      <th>hardtop</th>\n",
       "      <th>hatchback</th>\n",
       "      <th>sedan</th>\n",
       "      <th>wagon</th>\n",
       "    </tr>\n",
       "    <tr>\n",
       "      <th>drive-wheels</th>\n",
       "      <th></th>\n",
       "      <th></th>\n",
       "      <th></th>\n",
       "      <th></th>\n",
       "      <th></th>\n",
       "    </tr>\n",
       "  </thead>\n",
       "  <tbody>\n",
       "    <tr>\n",
       "      <th>4wd</th>\n",
       "      <td>0.0</td>\n",
       "      <td>0.000000</td>\n",
       "      <td>7603.000000</td>\n",
       "      <td>12647.333333</td>\n",
       "      <td>9095.750000</td>\n",
       "    </tr>\n",
       "    <tr>\n",
       "      <th>fwd</th>\n",
       "      <td>11595.0</td>\n",
       "      <td>8249.000000</td>\n",
       "      <td>8396.387755</td>\n",
       "      <td>9811.800000</td>\n",
       "      <td>9997.333333</td>\n",
       "    </tr>\n",
       "    <tr>\n",
       "      <th>rwd</th>\n",
       "      <td>23949.6</td>\n",
       "      <td>24202.714286</td>\n",
       "      <td>14337.777778</td>\n",
       "      <td>21711.833333</td>\n",
       "      <td>16994.222222</td>\n",
       "    </tr>\n",
       "  </tbody>\n",
       "</table>\n",
       "</div>"
      ],
      "text/plain": [
       "                   price                                            \\\n",
       "body-style   convertible       hardtop     hatchback         sedan   \n",
       "drive-wheels                                                         \n",
       "4wd                  0.0      0.000000   7603.000000  12647.333333   \n",
       "fwd              11595.0   8249.000000   8396.387755   9811.800000   \n",
       "rwd              23949.6  24202.714286  14337.777778  21711.833333   \n",
       "\n",
       "                            \n",
       "body-style           wagon  \n",
       "drive-wheels                \n",
       "4wd            9095.750000  \n",
       "fwd            9997.333333  \n",
       "rwd           16994.222222  "
      ]
     },
     "execution_count": 32,
     "metadata": {},
     "output_type": "execute_result"
    }
   ],
=======
   "execution_count": null,
   "metadata": {
    "collapsed": false,
    "scrolled": true
   },
   "outputs": [],
>>>>>>> d6b5bd050ed7ba736b15c35bb74c4476035c8c84
   "source": [
    "grouped_pivot = grouped_pivot.fillna(0) #fill missing values with 0\n",
    "grouped_pivot"
   ]
  },
  {
   "cell_type": "markdown",
   "metadata": {},
   "source": [
    "<div class=\"alert alert-danger alertdanger\" style=\"margin-top: 20px\">\n",
    "<h1>Question 4:</h1>\n",
    "\n",
    "<p>Use the \"groupby\" function to find the average \"price\" of each car based on \"body-style\" ? </p>\n",
    "</div>"
   ]
  },
  {
   "cell_type": "code",
<<<<<<< HEAD
   "execution_count": 34,
   "metadata": {},
   "outputs": [
    {
     "data": {
      "text/html": [
       "<div>\n",
       "<style scoped>\n",
       "    .dataframe tbody tr th:only-of-type {\n",
       "        vertical-align: middle;\n",
       "    }\n",
       "\n",
       "    .dataframe tbody tr th {\n",
       "        vertical-align: top;\n",
       "    }\n",
       "\n",
       "    .dataframe thead th {\n",
       "        text-align: right;\n",
       "    }\n",
       "</style>\n",
       "<table border=\"1\" class=\"dataframe\">\n",
       "  <thead>\n",
       "    <tr style=\"text-align: right;\">\n",
       "      <th></th>\n",
       "      <th>body-style</th>\n",
       "      <th>price</th>\n",
       "    </tr>\n",
       "  </thead>\n",
       "  <tbody>\n",
       "    <tr>\n",
       "      <th>0</th>\n",
       "      <td>convertible</td>\n",
       "      <td>21890.500000</td>\n",
       "    </tr>\n",
       "    <tr>\n",
       "      <th>1</th>\n",
       "      <td>hardtop</td>\n",
       "      <td>22208.500000</td>\n",
       "    </tr>\n",
       "    <tr>\n",
       "      <th>2</th>\n",
       "      <td>hatchback</td>\n",
       "      <td>9957.441176</td>\n",
       "    </tr>\n",
       "    <tr>\n",
       "      <th>3</th>\n",
       "      <td>sedan</td>\n",
       "      <td>14459.755319</td>\n",
       "    </tr>\n",
       "    <tr>\n",
       "      <th>4</th>\n",
       "      <td>wagon</td>\n",
       "      <td>12371.960000</td>\n",
       "    </tr>\n",
       "  </tbody>\n",
       "</table>\n",
       "</div>"
      ],
      "text/plain": [
       "    body-style         price\n",
       "0  convertible  21890.500000\n",
       "1      hardtop  22208.500000\n",
       "2    hatchback   9957.441176\n",
       "3        sedan  14459.755319\n",
       "4        wagon  12371.960000"
      ]
     },
     "execution_count": 34,
     "metadata": {},
     "output_type": "execute_result"
    }
   ],
   "source": [
    "# Write your code below and press Shift+Enter to execute \n",
    "group_by_body = df[['body-style','price']]\n",
    "grouped_body = group_by_body.groupby(['body-style'],as_index=False).mean()\n",
    "grouped_body"
=======
   "execution_count": null,
   "metadata": {
    "collapsed": false
   },
   "outputs": [],
   "source": [
    "# Write your code below and press Shift+Enter to execute \n"
>>>>>>> d6b5bd050ed7ba736b15c35bb74c4476035c8c84
   ]
  },
  {
   "cell_type": "markdown",
   "metadata": {},
   "source": [
    "Double-click <b>here</b> for the solution.\n",
    "\n",
    "<!-- The answer is below:\n",
    "\n",
    "# grouping results\n",
    "df_gptest2 = df[['body-style','price']]\n",
    "grouped_test_bodystyle = df_gptest2.groupby(['body-style'],as_index= False).mean()\n",
    "grouped_test_bodystyle\n",
    "\n",
    "-->"
   ]
  },
  {
   "cell_type": "markdown",
   "metadata": {},
   "source": [
    "If you did not import \"pyplot\" let's do it again. "
   ]
  },
  {
   "cell_type": "code",
<<<<<<< HEAD
   "execution_count": 35,
   "metadata": {},
=======
   "execution_count": null,
   "metadata": {
    "collapsed": true
   },
>>>>>>> d6b5bd050ed7ba736b15c35bb74c4476035c8c84
   "outputs": [],
   "source": [
    "import matplotlib.pyplot as plt\n",
    "%matplotlib inline "
   ]
  },
  {
   "cell_type": "markdown",
   "metadata": {},
   "source": [
    "<h4>Variables: Drive Wheels and Body Style vs Price</h4>"
   ]
  },
  {
   "cell_type": "markdown",
   "metadata": {},
   "source": [
    "Let's use a heat map to visualize the relationship between Body Style vs Price."
   ]
  },
  {
   "cell_type": "code",
<<<<<<< HEAD
   "execution_count": 36,
   "metadata": {
    "scrolled": false
   },
   "outputs": [
    {
     "data": {
      "image/png": "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\n",
      "text/plain": [
       "<Figure size 432x288 with 2 Axes>"
      ]
     },
     "metadata": {
      "needs_background": "light"
     },
     "output_type": "display_data"
    }
   ],
=======
   "execution_count": null,
   "metadata": {
    "collapsed": false,
    "scrolled": false
   },
   "outputs": [],
>>>>>>> d6b5bd050ed7ba736b15c35bb74c4476035c8c84
   "source": [
    "#use the grouped results\n",
    "plt.pcolor(grouped_pivot, cmap='RdBu')\n",
    "plt.colorbar()\n",
    "plt.show()"
   ]
  },
  {
   "cell_type": "markdown",
   "metadata": {},
   "source": [
    "<p>The heatmap plots the target variable (price) proportional to colour with respect to the variables 'drive-wheel' and 'body-style' in the vertical and horizontal axis respectively. This allows us to visualize how the price is related to 'drive-wheel' and 'body-style'.</p>\n",
    "\n",
    "<p>The default labels convey no useful information to us. Let's change that:</p>"
   ]
  },
  {
   "cell_type": "code",
<<<<<<< HEAD
   "execution_count": 37,
   "metadata": {},
   "outputs": [
    {
     "data": {
      "image/png": "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\n",
      "text/plain": [
       "<Figure size 432x288 with 2 Axes>"
      ]
     },
     "metadata": {
      "needs_background": "light"
     },
     "output_type": "display_data"
    }
   ],
=======
   "execution_count": null,
   "metadata": {
    "collapsed": false
   },
   "outputs": [],
>>>>>>> d6b5bd050ed7ba736b15c35bb74c4476035c8c84
   "source": [
    "fig, ax = plt.subplots()\n",
    "im = ax.pcolor(grouped_pivot, cmap='RdBu')\n",
    "\n",
    "#label names\n",
    "row_labels = grouped_pivot.columns.levels[1]\n",
    "col_labels = grouped_pivot.index\n",
    "\n",
    "#move ticks and labels to the center\n",
    "ax.set_xticks(np.arange(grouped_pivot.shape[1]) + 0.5, minor=False)\n",
    "ax.set_yticks(np.arange(grouped_pivot.shape[0]) + 0.5, minor=False)\n",
    "\n",
    "#insert labels\n",
    "ax.set_xticklabels(row_labels, minor=False)\n",
    "ax.set_yticklabels(col_labels, minor=False)\n",
    "\n",
    "#rotate label if too long\n",
    "plt.xticks(rotation=90)\n",
    "\n",
    "fig.colorbar(im)\n",
    "plt.show()"
   ]
  },
  {
   "cell_type": "markdown",
   "metadata": {},
   "source": [
    "<p>Visualization is very important in data science, and Python visualization packages provide great freedom. We will go more in-depth in a separate Python Visualizations course.</p>\n",
    "\n",
    "<p>The main question we want to answer in this module, is \"What are the main characteristics which have the most impact on the car price?\".</p>\n",
    "\n",
    "<p>To get a better measure of the important characteristics, we look at the correlation of these variables with the car price, in other words: how is the car price dependent on this variable?</p>"
   ]
  },
  {
   "cell_type": "markdown",
   "metadata": {},
   "source": [
    "<h2 id=\"correlation_causation\">5. Correlation and Causation</h2>"
   ]
  },
  {
   "cell_type": "markdown",
   "metadata": {},
   "source": [
    "<p><b>Correlation</b>: a measure of the extent of interdependence between variables.</p>\n",
    "\n",
    "<p><b>Causation</b>: the relationship between cause and effect between two variables.</p>\n",
    "\n",
    "<p>It is important to know the difference between these two and that correlation does not imply causation. Determining correlation is much simpler  the determining causation as causation may require independent experimentation.</p>"
   ]
  },
  {
   "cell_type": "markdown",
   "metadata": {},
   "source": [
    "<p3>Pearson Correlation</p>\n",
    "<p>The Pearson Correlation measures the linear dependence between two variables X and Y.</p>\n",
    "<p>The resulting coefficient is a value between -1 and 1 inclusive, where:</p>\n",
    "<ul>\n",
    "    <li><b>1</b>: Total positive linear correlation.</li>\n",
    "    <li><b>0</b>: No linear correlation, the two variables most likely do not affect each other.</li>\n",
    "    <li><b>-1</b>: Total negative linear correlation.</li>\n",
    "</ul>"
   ]
  },
  {
   "cell_type": "markdown",
   "metadata": {},
   "source": [
    "<p>Pearson Correlation is the default method of the function \"corr\".  Like before we can calculate the Pearson Correlation of the of the 'int64' or 'float64'  variables.</p>"
   ]
  },
  {
   "cell_type": "code",
<<<<<<< HEAD
   "execution_count": 38,
   "metadata": {},
   "outputs": [
    {
     "data": {
      "text/html": [
       "<div>\n",
       "<style scoped>\n",
       "    .dataframe tbody tr th:only-of-type {\n",
       "        vertical-align: middle;\n",
       "    }\n",
       "\n",
       "    .dataframe tbody tr th {\n",
       "        vertical-align: top;\n",
       "    }\n",
       "\n",
       "    .dataframe thead th {\n",
       "        text-align: right;\n",
       "    }\n",
       "</style>\n",
       "<table border=\"1\" class=\"dataframe\">\n",
       "  <thead>\n",
       "    <tr style=\"text-align: right;\">\n",
       "      <th></th>\n",
       "      <th>symboling</th>\n",
       "      <th>normalized-losses</th>\n",
       "      <th>wheel-base</th>\n",
       "      <th>length</th>\n",
       "      <th>width</th>\n",
       "      <th>height</th>\n",
       "      <th>curb-weight</th>\n",
       "      <th>engine-size</th>\n",
       "      <th>bore</th>\n",
       "      <th>stroke</th>\n",
       "      <th>compression-ratio</th>\n",
       "      <th>horsepower</th>\n",
       "      <th>peak-rpm</th>\n",
       "      <th>city-mpg</th>\n",
       "      <th>highway-mpg</th>\n",
       "      <th>price</th>\n",
       "      <th>city-L/100km</th>\n",
       "      <th>diesel</th>\n",
       "      <th>gas</th>\n",
       "    </tr>\n",
       "  </thead>\n",
       "  <tbody>\n",
       "    <tr>\n",
       "      <th>symboling</th>\n",
       "      <td>1.000000</td>\n",
       "      <td>0.466264</td>\n",
       "      <td>-0.535987</td>\n",
       "      <td>-0.365404</td>\n",
       "      <td>-0.242423</td>\n",
       "      <td>-0.550160</td>\n",
       "      <td>-0.233118</td>\n",
       "      <td>-0.110581</td>\n",
       "      <td>-0.140019</td>\n",
       "      <td>-0.008245</td>\n",
       "      <td>-0.182196</td>\n",
       "      <td>0.075819</td>\n",
       "      <td>0.279740</td>\n",
       "      <td>-0.035527</td>\n",
       "      <td>0.036233</td>\n",
       "      <td>-0.082391</td>\n",
       "      <td>0.066171</td>\n",
       "      <td>-0.196735</td>\n",
       "      <td>0.196735</td>\n",
       "    </tr>\n",
       "    <tr>\n",
       "      <th>normalized-losses</th>\n",
       "      <td>0.466264</td>\n",
       "      <td>1.000000</td>\n",
       "      <td>-0.056661</td>\n",
       "      <td>0.019424</td>\n",
       "      <td>0.086802</td>\n",
       "      <td>-0.373737</td>\n",
       "      <td>0.099404</td>\n",
       "      <td>0.112360</td>\n",
       "      <td>-0.029862</td>\n",
       "      <td>0.055563</td>\n",
       "      <td>-0.114713</td>\n",
       "      <td>0.217299</td>\n",
       "      <td>0.239543</td>\n",
       "      <td>-0.225016</td>\n",
       "      <td>-0.181877</td>\n",
       "      <td>0.133999</td>\n",
       "      <td>0.238567</td>\n",
       "      <td>-0.101546</td>\n",
       "      <td>0.101546</td>\n",
       "    </tr>\n",
       "    <tr>\n",
       "      <th>wheel-base</th>\n",
       "      <td>-0.535987</td>\n",
       "      <td>-0.056661</td>\n",
       "      <td>1.000000</td>\n",
       "      <td>0.876024</td>\n",
       "      <td>0.814507</td>\n",
       "      <td>0.590742</td>\n",
       "      <td>0.782097</td>\n",
       "      <td>0.572027</td>\n",
       "      <td>0.493244</td>\n",
       "      <td>0.158502</td>\n",
       "      <td>0.250313</td>\n",
       "      <td>0.371147</td>\n",
       "      <td>-0.360305</td>\n",
       "      <td>-0.470606</td>\n",
       "      <td>-0.543304</td>\n",
       "      <td>0.584642</td>\n",
       "      <td>0.476153</td>\n",
       "      <td>0.307237</td>\n",
       "      <td>-0.307237</td>\n",
       "    </tr>\n",
       "    <tr>\n",
       "      <th>length</th>\n",
       "      <td>-0.365404</td>\n",
       "      <td>0.019424</td>\n",
       "      <td>0.876024</td>\n",
       "      <td>1.000000</td>\n",
       "      <td>0.857170</td>\n",
       "      <td>0.492063</td>\n",
       "      <td>0.880665</td>\n",
       "      <td>0.685025</td>\n",
       "      <td>0.608971</td>\n",
       "      <td>0.124139</td>\n",
       "      <td>0.159733</td>\n",
       "      <td>0.579821</td>\n",
       "      <td>-0.285970</td>\n",
       "      <td>-0.665192</td>\n",
       "      <td>-0.698142</td>\n",
       "      <td>0.690628</td>\n",
       "      <td>0.657373</td>\n",
       "      <td>0.211187</td>\n",
       "      <td>-0.211187</td>\n",
       "    </tr>\n",
       "    <tr>\n",
       "      <th>width</th>\n",
       "      <td>-0.242423</td>\n",
       "      <td>0.086802</td>\n",
       "      <td>0.814507</td>\n",
       "      <td>0.857170</td>\n",
       "      <td>1.000000</td>\n",
       "      <td>0.306002</td>\n",
       "      <td>0.866201</td>\n",
       "      <td>0.729436</td>\n",
       "      <td>0.544885</td>\n",
       "      <td>0.188829</td>\n",
       "      <td>0.189867</td>\n",
       "      <td>0.615077</td>\n",
       "      <td>-0.245800</td>\n",
       "      <td>-0.633531</td>\n",
       "      <td>-0.680635</td>\n",
       "      <td>0.751265</td>\n",
       "      <td>0.673363</td>\n",
       "      <td>0.244356</td>\n",
       "      <td>-0.244356</td>\n",
       "    </tr>\n",
       "    <tr>\n",
       "      <th>height</th>\n",
       "      <td>-0.550160</td>\n",
       "      <td>-0.373737</td>\n",
       "      <td>0.590742</td>\n",
       "      <td>0.492063</td>\n",
       "      <td>0.306002</td>\n",
       "      <td>1.000000</td>\n",
       "      <td>0.307581</td>\n",
       "      <td>0.074694</td>\n",
       "      <td>0.180449</td>\n",
       "      <td>-0.062704</td>\n",
       "      <td>0.259737</td>\n",
       "      <td>-0.087027</td>\n",
       "      <td>-0.309974</td>\n",
       "      <td>-0.049800</td>\n",
       "      <td>-0.104812</td>\n",
       "      <td>0.135486</td>\n",
       "      <td>0.003811</td>\n",
       "      <td>0.281578</td>\n",
       "      <td>-0.281578</td>\n",
       "    </tr>\n",
       "    <tr>\n",
       "      <th>curb-weight</th>\n",
       "      <td>-0.233118</td>\n",
       "      <td>0.099404</td>\n",
       "      <td>0.782097</td>\n",
       "      <td>0.880665</td>\n",
       "      <td>0.866201</td>\n",
       "      <td>0.307581</td>\n",
       "      <td>1.000000</td>\n",
       "      <td>0.849072</td>\n",
       "      <td>0.644060</td>\n",
       "      <td>0.167562</td>\n",
       "      <td>0.156433</td>\n",
       "      <td>0.757976</td>\n",
       "      <td>-0.279361</td>\n",
       "      <td>-0.749543</td>\n",
       "      <td>-0.794889</td>\n",
       "      <td>0.834415</td>\n",
       "      <td>0.785353</td>\n",
       "      <td>0.221046</td>\n",
       "      <td>-0.221046</td>\n",
       "    </tr>\n",
       "    <tr>\n",
       "      <th>engine-size</th>\n",
       "      <td>-0.110581</td>\n",
       "      <td>0.112360</td>\n",
       "      <td>0.572027</td>\n",
       "      <td>0.685025</td>\n",
       "      <td>0.729436</td>\n",
       "      <td>0.074694</td>\n",
       "      <td>0.849072</td>\n",
       "      <td>1.000000</td>\n",
       "      <td>0.572609</td>\n",
       "      <td>0.209523</td>\n",
       "      <td>0.028889</td>\n",
       "      <td>0.822676</td>\n",
       "      <td>-0.256733</td>\n",
       "      <td>-0.650546</td>\n",
       "      <td>-0.679571</td>\n",
       "      <td>0.872335</td>\n",
       "      <td>0.745059</td>\n",
       "      <td>0.070779</td>\n",
       "      <td>-0.070779</td>\n",
       "    </tr>\n",
       "    <tr>\n",
       "      <th>bore</th>\n",
       "      <td>-0.140019</td>\n",
       "      <td>-0.029862</td>\n",
       "      <td>0.493244</td>\n",
       "      <td>0.608971</td>\n",
       "      <td>0.544885</td>\n",
       "      <td>0.180449</td>\n",
       "      <td>0.644060</td>\n",
       "      <td>0.572609</td>\n",
       "      <td>1.000000</td>\n",
       "      <td>-0.055390</td>\n",
       "      <td>0.001263</td>\n",
       "      <td>0.566936</td>\n",
       "      <td>-0.267392</td>\n",
       "      <td>-0.582027</td>\n",
       "      <td>-0.591309</td>\n",
       "      <td>0.543155</td>\n",
       "      <td>0.554610</td>\n",
       "      <td>0.054458</td>\n",
       "      <td>-0.054458</td>\n",
       "    </tr>\n",
       "    <tr>\n",
       "      <th>stroke</th>\n",
       "      <td>-0.008245</td>\n",
       "      <td>0.055563</td>\n",
       "      <td>0.158502</td>\n",
       "      <td>0.124139</td>\n",
       "      <td>0.188829</td>\n",
       "      <td>-0.062704</td>\n",
       "      <td>0.167562</td>\n",
       "      <td>0.209523</td>\n",
       "      <td>-0.055390</td>\n",
       "      <td>1.000000</td>\n",
       "      <td>0.187923</td>\n",
       "      <td>0.098462</td>\n",
       "      <td>-0.065713</td>\n",
       "      <td>-0.034696</td>\n",
       "      <td>-0.035201</td>\n",
       "      <td>0.082310</td>\n",
       "      <td>0.037300</td>\n",
       "      <td>0.241303</td>\n",
       "      <td>-0.241303</td>\n",
       "    </tr>\n",
       "    <tr>\n",
       "      <th>compression-ratio</th>\n",
       "      <td>-0.182196</td>\n",
       "      <td>-0.114713</td>\n",
       "      <td>0.250313</td>\n",
       "      <td>0.159733</td>\n",
       "      <td>0.189867</td>\n",
       "      <td>0.259737</td>\n",
       "      <td>0.156433</td>\n",
       "      <td>0.028889</td>\n",
       "      <td>0.001263</td>\n",
       "      <td>0.187923</td>\n",
       "      <td>1.000000</td>\n",
       "      <td>-0.214514</td>\n",
       "      <td>-0.435780</td>\n",
       "      <td>0.331425</td>\n",
       "      <td>0.268465</td>\n",
       "      <td>0.071107</td>\n",
       "      <td>-0.299372</td>\n",
       "      <td>0.985231</td>\n",
       "      <td>-0.985231</td>\n",
       "    </tr>\n",
       "    <tr>\n",
       "      <th>horsepower</th>\n",
       "      <td>0.075819</td>\n",
       "      <td>0.217299</td>\n",
       "      <td>0.371147</td>\n",
       "      <td>0.579821</td>\n",
       "      <td>0.615077</td>\n",
       "      <td>-0.087027</td>\n",
       "      <td>0.757976</td>\n",
       "      <td>0.822676</td>\n",
       "      <td>0.566936</td>\n",
       "      <td>0.098462</td>\n",
       "      <td>-0.214514</td>\n",
       "      <td>1.000000</td>\n",
       "      <td>0.107885</td>\n",
       "      <td>-0.822214</td>\n",
       "      <td>-0.804575</td>\n",
       "      <td>0.809575</td>\n",
       "      <td>0.889488</td>\n",
       "      <td>-0.169053</td>\n",
       "      <td>0.169053</td>\n",
       "    </tr>\n",
       "    <tr>\n",
       "      <th>peak-rpm</th>\n",
       "      <td>0.279740</td>\n",
       "      <td>0.239543</td>\n",
       "      <td>-0.360305</td>\n",
       "      <td>-0.285970</td>\n",
       "      <td>-0.245800</td>\n",
       "      <td>-0.309974</td>\n",
       "      <td>-0.279361</td>\n",
       "      <td>-0.256733</td>\n",
       "      <td>-0.267392</td>\n",
       "      <td>-0.065713</td>\n",
       "      <td>-0.435780</td>\n",
       "      <td>0.107885</td>\n",
       "      <td>1.000000</td>\n",
       "      <td>-0.115413</td>\n",
       "      <td>-0.058598</td>\n",
       "      <td>-0.101616</td>\n",
       "      <td>0.115830</td>\n",
       "      <td>-0.475812</td>\n",
       "      <td>0.475812</td>\n",
       "    </tr>\n",
       "    <tr>\n",
       "      <th>city-mpg</th>\n",
       "      <td>-0.035527</td>\n",
       "      <td>-0.225016</td>\n",
       "      <td>-0.470606</td>\n",
       "      <td>-0.665192</td>\n",
       "      <td>-0.633531</td>\n",
       "      <td>-0.049800</td>\n",
       "      <td>-0.749543</td>\n",
       "      <td>-0.650546</td>\n",
       "      <td>-0.582027</td>\n",
       "      <td>-0.034696</td>\n",
       "      <td>0.331425</td>\n",
       "      <td>-0.822214</td>\n",
       "      <td>-0.115413</td>\n",
       "      <td>1.000000</td>\n",
       "      <td>0.972044</td>\n",
       "      <td>-0.686571</td>\n",
       "      <td>-0.949713</td>\n",
       "      <td>0.265676</td>\n",
       "      <td>-0.265676</td>\n",
       "    </tr>\n",
       "    <tr>\n",
       "      <th>highway-mpg</th>\n",
       "      <td>0.036233</td>\n",
       "      <td>-0.181877</td>\n",
       "      <td>-0.543304</td>\n",
       "      <td>-0.698142</td>\n",
       "      <td>-0.680635</td>\n",
       "      <td>-0.104812</td>\n",
       "      <td>-0.794889</td>\n",
       "      <td>-0.679571</td>\n",
       "      <td>-0.591309</td>\n",
       "      <td>-0.035201</td>\n",
       "      <td>0.268465</td>\n",
       "      <td>-0.804575</td>\n",
       "      <td>-0.058598</td>\n",
       "      <td>0.972044</td>\n",
       "      <td>1.000000</td>\n",
       "      <td>-0.704692</td>\n",
       "      <td>-0.930028</td>\n",
       "      <td>0.198690</td>\n",
       "      <td>-0.198690</td>\n",
       "    </tr>\n",
       "    <tr>\n",
       "      <th>price</th>\n",
       "      <td>-0.082391</td>\n",
       "      <td>0.133999</td>\n",
       "      <td>0.584642</td>\n",
       "      <td>0.690628</td>\n",
       "      <td>0.751265</td>\n",
       "      <td>0.135486</td>\n",
       "      <td>0.834415</td>\n",
       "      <td>0.872335</td>\n",
       "      <td>0.543155</td>\n",
       "      <td>0.082310</td>\n",
       "      <td>0.071107</td>\n",
       "      <td>0.809575</td>\n",
       "      <td>-0.101616</td>\n",
       "      <td>-0.686571</td>\n",
       "      <td>-0.704692</td>\n",
       "      <td>1.000000</td>\n",
       "      <td>0.789898</td>\n",
       "      <td>0.110326</td>\n",
       "      <td>-0.110326</td>\n",
       "    </tr>\n",
       "    <tr>\n",
       "      <th>city-L/100km</th>\n",
       "      <td>0.066171</td>\n",
       "      <td>0.238567</td>\n",
       "      <td>0.476153</td>\n",
       "      <td>0.657373</td>\n",
       "      <td>0.673363</td>\n",
       "      <td>0.003811</td>\n",
       "      <td>0.785353</td>\n",
       "      <td>0.745059</td>\n",
       "      <td>0.554610</td>\n",
       "      <td>0.037300</td>\n",
       "      <td>-0.299372</td>\n",
       "      <td>0.889488</td>\n",
       "      <td>0.115830</td>\n",
       "      <td>-0.949713</td>\n",
       "      <td>-0.930028</td>\n",
       "      <td>0.789898</td>\n",
       "      <td>1.000000</td>\n",
       "      <td>-0.241282</td>\n",
       "      <td>0.241282</td>\n",
       "    </tr>\n",
       "    <tr>\n",
       "      <th>diesel</th>\n",
       "      <td>-0.196735</td>\n",
       "      <td>-0.101546</td>\n",
       "      <td>0.307237</td>\n",
       "      <td>0.211187</td>\n",
       "      <td>0.244356</td>\n",
       "      <td>0.281578</td>\n",
       "      <td>0.221046</td>\n",
       "      <td>0.070779</td>\n",
       "      <td>0.054458</td>\n",
       "      <td>0.241303</td>\n",
       "      <td>0.985231</td>\n",
       "      <td>-0.169053</td>\n",
       "      <td>-0.475812</td>\n",
       "      <td>0.265676</td>\n",
       "      <td>0.198690</td>\n",
       "      <td>0.110326</td>\n",
       "      <td>-0.241282</td>\n",
       "      <td>1.000000</td>\n",
       "      <td>-1.000000</td>\n",
       "    </tr>\n",
       "    <tr>\n",
       "      <th>gas</th>\n",
       "      <td>0.196735</td>\n",
       "      <td>0.101546</td>\n",
       "      <td>-0.307237</td>\n",
       "      <td>-0.211187</td>\n",
       "      <td>-0.244356</td>\n",
       "      <td>-0.281578</td>\n",
       "      <td>-0.221046</td>\n",
       "      <td>-0.070779</td>\n",
       "      <td>-0.054458</td>\n",
       "      <td>-0.241303</td>\n",
       "      <td>-0.985231</td>\n",
       "      <td>0.169053</td>\n",
       "      <td>0.475812</td>\n",
       "      <td>-0.265676</td>\n",
       "      <td>-0.198690</td>\n",
       "      <td>-0.110326</td>\n",
       "      <td>0.241282</td>\n",
       "      <td>-1.000000</td>\n",
       "      <td>1.000000</td>\n",
       "    </tr>\n",
       "  </tbody>\n",
       "</table>\n",
       "</div>"
      ],
      "text/plain": [
       "                   symboling  normalized-losses  wheel-base    length  \\\n",
       "symboling           1.000000           0.466264   -0.535987 -0.365404   \n",
       "normalized-losses   0.466264           1.000000   -0.056661  0.019424   \n",
       "wheel-base         -0.535987          -0.056661    1.000000  0.876024   \n",
       "length             -0.365404           0.019424    0.876024  1.000000   \n",
       "width              -0.242423           0.086802    0.814507  0.857170   \n",
       "height             -0.550160          -0.373737    0.590742  0.492063   \n",
       "curb-weight        -0.233118           0.099404    0.782097  0.880665   \n",
       "engine-size        -0.110581           0.112360    0.572027  0.685025   \n",
       "bore               -0.140019          -0.029862    0.493244  0.608971   \n",
       "stroke             -0.008245           0.055563    0.158502  0.124139   \n",
       "compression-ratio  -0.182196          -0.114713    0.250313  0.159733   \n",
       "horsepower          0.075819           0.217299    0.371147  0.579821   \n",
       "peak-rpm            0.279740           0.239543   -0.360305 -0.285970   \n",
       "city-mpg           -0.035527          -0.225016   -0.470606 -0.665192   \n",
       "highway-mpg         0.036233          -0.181877   -0.543304 -0.698142   \n",
       "price              -0.082391           0.133999    0.584642  0.690628   \n",
       "city-L/100km        0.066171           0.238567    0.476153  0.657373   \n",
       "diesel             -0.196735          -0.101546    0.307237  0.211187   \n",
       "gas                 0.196735           0.101546   -0.307237 -0.211187   \n",
       "\n",
       "                      width    height  curb-weight  engine-size      bore  \\\n",
       "symboling         -0.242423 -0.550160    -0.233118    -0.110581 -0.140019   \n",
       "normalized-losses  0.086802 -0.373737     0.099404     0.112360 -0.029862   \n",
       "wheel-base         0.814507  0.590742     0.782097     0.572027  0.493244   \n",
       "length             0.857170  0.492063     0.880665     0.685025  0.608971   \n",
       "width              1.000000  0.306002     0.866201     0.729436  0.544885   \n",
       "height             0.306002  1.000000     0.307581     0.074694  0.180449   \n",
       "curb-weight        0.866201  0.307581     1.000000     0.849072  0.644060   \n",
       "engine-size        0.729436  0.074694     0.849072     1.000000  0.572609   \n",
       "bore               0.544885  0.180449     0.644060     0.572609  1.000000   \n",
       "stroke             0.188829 -0.062704     0.167562     0.209523 -0.055390   \n",
       "compression-ratio  0.189867  0.259737     0.156433     0.028889  0.001263   \n",
       "horsepower         0.615077 -0.087027     0.757976     0.822676  0.566936   \n",
       "peak-rpm          -0.245800 -0.309974    -0.279361    -0.256733 -0.267392   \n",
       "city-mpg          -0.633531 -0.049800    -0.749543    -0.650546 -0.582027   \n",
       "highway-mpg       -0.680635 -0.104812    -0.794889    -0.679571 -0.591309   \n",
       "price              0.751265  0.135486     0.834415     0.872335  0.543155   \n",
       "city-L/100km       0.673363  0.003811     0.785353     0.745059  0.554610   \n",
       "diesel             0.244356  0.281578     0.221046     0.070779  0.054458   \n",
       "gas               -0.244356 -0.281578    -0.221046    -0.070779 -0.054458   \n",
       "\n",
       "                     stroke  compression-ratio  horsepower  peak-rpm  \\\n",
       "symboling         -0.008245          -0.182196    0.075819  0.279740   \n",
       "normalized-losses  0.055563          -0.114713    0.217299  0.239543   \n",
       "wheel-base         0.158502           0.250313    0.371147 -0.360305   \n",
       "length             0.124139           0.159733    0.579821 -0.285970   \n",
       "width              0.188829           0.189867    0.615077 -0.245800   \n",
       "height            -0.062704           0.259737   -0.087027 -0.309974   \n",
       "curb-weight        0.167562           0.156433    0.757976 -0.279361   \n",
       "engine-size        0.209523           0.028889    0.822676 -0.256733   \n",
       "bore              -0.055390           0.001263    0.566936 -0.267392   \n",
       "stroke             1.000000           0.187923    0.098462 -0.065713   \n",
       "compression-ratio  0.187923           1.000000   -0.214514 -0.435780   \n",
       "horsepower         0.098462          -0.214514    1.000000  0.107885   \n",
       "peak-rpm          -0.065713          -0.435780    0.107885  1.000000   \n",
       "city-mpg          -0.034696           0.331425   -0.822214 -0.115413   \n",
       "highway-mpg       -0.035201           0.268465   -0.804575 -0.058598   \n",
       "price              0.082310           0.071107    0.809575 -0.101616   \n",
       "city-L/100km       0.037300          -0.299372    0.889488  0.115830   \n",
       "diesel             0.241303           0.985231   -0.169053 -0.475812   \n",
       "gas               -0.241303          -0.985231    0.169053  0.475812   \n",
       "\n",
       "                   city-mpg  highway-mpg     price  city-L/100km    diesel  \\\n",
       "symboling         -0.035527     0.036233 -0.082391      0.066171 -0.196735   \n",
       "normalized-losses -0.225016    -0.181877  0.133999      0.238567 -0.101546   \n",
       "wheel-base        -0.470606    -0.543304  0.584642      0.476153  0.307237   \n",
       "length            -0.665192    -0.698142  0.690628      0.657373  0.211187   \n",
       "width             -0.633531    -0.680635  0.751265      0.673363  0.244356   \n",
       "height            -0.049800    -0.104812  0.135486      0.003811  0.281578   \n",
       "curb-weight       -0.749543    -0.794889  0.834415      0.785353  0.221046   \n",
       "engine-size       -0.650546    -0.679571  0.872335      0.745059  0.070779   \n",
       "bore              -0.582027    -0.591309  0.543155      0.554610  0.054458   \n",
       "stroke            -0.034696    -0.035201  0.082310      0.037300  0.241303   \n",
       "compression-ratio  0.331425     0.268465  0.071107     -0.299372  0.985231   \n",
       "horsepower        -0.822214    -0.804575  0.809575      0.889488 -0.169053   \n",
       "peak-rpm          -0.115413    -0.058598 -0.101616      0.115830 -0.475812   \n",
       "city-mpg           1.000000     0.972044 -0.686571     -0.949713  0.265676   \n",
       "highway-mpg        0.972044     1.000000 -0.704692     -0.930028  0.198690   \n",
       "price             -0.686571    -0.704692  1.000000      0.789898  0.110326   \n",
       "city-L/100km      -0.949713    -0.930028  0.789898      1.000000 -0.241282   \n",
       "diesel             0.265676     0.198690  0.110326     -0.241282  1.000000   \n",
       "gas               -0.265676    -0.198690 -0.110326      0.241282 -1.000000   \n",
       "\n",
       "                        gas  \n",
       "symboling          0.196735  \n",
       "normalized-losses  0.101546  \n",
       "wheel-base        -0.307237  \n",
       "length            -0.211187  \n",
       "width             -0.244356  \n",
       "height            -0.281578  \n",
       "curb-weight       -0.221046  \n",
       "engine-size       -0.070779  \n",
       "bore              -0.054458  \n",
       "stroke            -0.241303  \n",
       "compression-ratio -0.985231  \n",
       "horsepower         0.169053  \n",
       "peak-rpm           0.475812  \n",
       "city-mpg          -0.265676  \n",
       "highway-mpg       -0.198690  \n",
       "price             -0.110326  \n",
       "city-L/100km       0.241282  \n",
       "diesel            -1.000000  \n",
       "gas                1.000000  "
      ]
     },
     "execution_count": 38,
     "metadata": {},
     "output_type": "execute_result"
    }
   ],
=======
   "execution_count": null,
   "metadata": {
    "collapsed": false
   },
   "outputs": [],
>>>>>>> d6b5bd050ed7ba736b15c35bb74c4476035c8c84
   "source": [
    "df.corr()"
   ]
  },
  {
   "cell_type": "markdown",
   "metadata": {},
   "source": [
    " sometimes we would like to know the significant of the correlation estimate. "
   ]
  },
  {
   "cell_type": "markdown",
   "metadata": {},
   "source": [
    "<b>P-value</b>: \n",
    "<p>What is this P-value? The P-value is the probability value that the correlation between these two variables is statistically significant. Normally, we choose a significance level of 0.05, which means that we are 95% confident that the correlation between the variables is significant.</p>\n",
    "\n",
    "By convention, when the\n",
    "<ul>\n",
    "    <li>p-value is $<$ 0.001: we say there is strong evidence that the correlation is significant.</li>\n",
    "    <li>the p-value is $<$ 0.05: there is moderate evidence that the correlation is significant.</li>\n",
    "    <li>the p-value is $<$ 0.1: there is weak evidence that the correlation is significant.</li>\n",
    "    <li>the p-value is $>$ 0.1: there is no evidence that the correlation is significant.</li>\n",
    "</ul>"
   ]
  },
  {
   "cell_type": "markdown",
   "metadata": {},
   "source": [
    " We can obtain this information using  \"stats\" module in the \"scipy\"  library."
   ]
  },
  {
   "cell_type": "code",
<<<<<<< HEAD
   "execution_count": 39,
   "metadata": {},
=======
   "execution_count": null,
   "metadata": {
    "collapsed": true
   },
>>>>>>> d6b5bd050ed7ba736b15c35bb74c4476035c8c84
   "outputs": [],
   "source": [
    "from scipy import stats"
   ]
  },
  {
   "cell_type": "markdown",
   "metadata": {},
   "source": [
    "<h3>Wheel-base vs Price</h3>"
   ]
  },
  {
   "cell_type": "markdown",
   "metadata": {},
   "source": [
    "Let's calculate the  Pearson Correlation Coefficient and P-value of 'wheel-base' and 'price'. "
   ]
  },
  {
   "cell_type": "code",
<<<<<<< HEAD
   "execution_count": 40,
   "metadata": {},
   "outputs": [
    {
     "name": "stdout",
     "output_type": "stream",
     "text": [
      "The Pearson Correlation Coefficient is 0.584641822265508  with a P-value of P = 8.076488270733218e-20\n"
     ]
    }
   ],
=======
   "execution_count": null,
   "metadata": {
    "collapsed": false
   },
   "outputs": [],
>>>>>>> d6b5bd050ed7ba736b15c35bb74c4476035c8c84
   "source": [
    "pearson_coef, p_value = stats.pearsonr(df['wheel-base'], df['price'])\n",
    "print(\"The Pearson Correlation Coefficient is\", pearson_coef, \" with a P-value of P =\", p_value)  "
   ]
  },
  {
   "cell_type": "markdown",
   "metadata": {},
   "source": [
    "<h5>Conclusion:</h5>\n",
    "<p>Since the p-value is $<$ 0.001, the correlation between wheel-base and price is statistically significant, although the linear relationship isn't extremely strong (~0.585)</p>"
   ]
  },
  {
   "cell_type": "markdown",
   "metadata": {},
   "source": [
    "<h3>Horsepower vs Price</h3>"
   ]
  },
  {
   "cell_type": "markdown",
   "metadata": {},
   "source": [
    " Let's calculate the  Pearson Correlation Coefficient and P-value of 'horsepower' and 'price'."
   ]
  },
  {
   "cell_type": "code",
<<<<<<< HEAD
   "execution_count": 41,
   "metadata": {},
   "outputs": [
    {
     "name": "stdout",
     "output_type": "stream",
     "text": [
      "The Pearson Correlation Coefficient is 0.809574567003656  with a P-value of P =  6.369057428259557e-48\n"
     ]
    }
   ],
=======
   "execution_count": null,
   "metadata": {
    "collapsed": false
   },
   "outputs": [],
>>>>>>> d6b5bd050ed7ba736b15c35bb74c4476035c8c84
   "source": [
    "pearson_coef, p_value = stats.pearsonr(df['horsepower'], df['price'])\n",
    "print(\"The Pearson Correlation Coefficient is\", pearson_coef, \" with a P-value of P = \", p_value)  "
   ]
  },
  {
   "cell_type": "markdown",
   "metadata": {},
   "source": [
    "<h5>Conclusion:</h5>\n",
    "\n",
    "<p>Since the p-value is $<$ 0.001, the correlation between horsepower and price is statistically significant, and the linear relationship is quite strong (~0.809, close to 1)</p>"
   ]
  },
  {
   "cell_type": "markdown",
   "metadata": {},
   "source": [
    "<h3>Length vs Price</h3>\n",
    "\n",
    "Let's calculate the  Pearson Correlation Coefficient and P-value of 'length' and 'price'."
   ]
  },
  {
   "cell_type": "code",
<<<<<<< HEAD
   "execution_count": 42,
   "metadata": {},
   "outputs": [
    {
     "name": "stdout",
     "output_type": "stream",
     "text": [
      "The Pearson Correlation Coefficient is 0.690628380448364  with a P-value of P =  8.016477466158986e-30\n"
     ]
    }
   ],
=======
   "execution_count": null,
   "metadata": {
    "collapsed": false
   },
   "outputs": [],
>>>>>>> d6b5bd050ed7ba736b15c35bb74c4476035c8c84
   "source": [
    "pearson_coef, p_value = stats.pearsonr(df['length'], df['price'])\n",
    "print(\"The Pearson Correlation Coefficient is\", pearson_coef, \" with a P-value of P = \", p_value)  "
   ]
  },
  {
   "cell_type": "markdown",
   "metadata": {},
   "source": [
    "<h5>Conclusion:</h5>\n",
    "<p>Since the p-value is $<$ 0.001, the correlation between length and price is statistically significant, and the linear relationship is moderately strong (~0.691).</p>"
   ]
  },
  {
   "cell_type": "markdown",
   "metadata": {},
   "source": [
    "<h3>Width vs Price</h3>"
   ]
  },
  {
   "cell_type": "markdown",
   "metadata": {},
   "source": [
    " Let's calculate the Pearson Correlation Coefficient and P-value of 'width' and 'price':"
   ]
  },
  {
   "cell_type": "code",
<<<<<<< HEAD
   "execution_count": 43,
   "metadata": {},
   "outputs": [
    {
     "name": "stdout",
     "output_type": "stream",
     "text": [
      "The Pearson Correlation Coefficient is 0.7512653440522674  with a P-value of P = 9.200335510481516e-38\n"
     ]
    }
   ],
=======
   "execution_count": null,
   "metadata": {
    "collapsed": false
   },
   "outputs": [],
>>>>>>> d6b5bd050ed7ba736b15c35bb74c4476035c8c84
   "source": [
    "pearson_coef, p_value = stats.pearsonr(df['width'], df['price'])\n",
    "print(\"The Pearson Correlation Coefficient is\", pearson_coef, \" with a P-value of P =\", p_value ) "
   ]
  },
  {
   "cell_type": "markdown",
   "metadata": {},
   "source": [
    "##### Conclusion:\n",
    "\n",
    "Since the p-value is < 0.001, the correlation between width and price is statistically significant, and the linear relationship is quite strong (~0.751)."
   ]
  },
  {
   "cell_type": "markdown",
   "metadata": {},
   "source": [
    "### Curb-weight vs Price"
   ]
  },
  {
   "cell_type": "markdown",
   "metadata": {},
   "source": [
    " Let's calculate the Pearson Correlation Coefficient and P-value of 'curb-weight' and 'price':"
   ]
  },
  {
   "cell_type": "code",
<<<<<<< HEAD
   "execution_count": 44,
   "metadata": {},
   "outputs": [
    {
     "name": "stdout",
     "output_type": "stream",
     "text": [
      "The Pearson Correlation Coefficient is 0.8344145257702845  with a P-value of P =  2.189577238893816e-53\n"
     ]
    }
   ],
=======
   "execution_count": null,
   "metadata": {
    "collapsed": false
   },
   "outputs": [],
>>>>>>> d6b5bd050ed7ba736b15c35bb74c4476035c8c84
   "source": [
    "pearson_coef, p_value = stats.pearsonr(df['curb-weight'], df['price'])\n",
    "print( \"The Pearson Correlation Coefficient is\", pearson_coef, \" with a P-value of P = \", p_value)  "
   ]
  },
  {
   "cell_type": "markdown",
   "metadata": {},
   "source": [
    "<h5>Conclusion:</h5>\n",
    "<p>Since the p-value is $<$ 0.001, the correlation between curb-weight and price is statistically significant, and the linear relationship is quite strong (~0.834).</p>"
   ]
  },
  {
   "cell_type": "markdown",
   "metadata": {},
   "source": [
    "<h3>Engine-size vs Price</h3>\n",
    "\n",
    "Let's calculate the Pearson Correlation Coefficient and P-value of 'engine-size' and 'price':"
   ]
  },
  {
   "cell_type": "code",
<<<<<<< HEAD
   "execution_count": 45,
   "metadata": {},
   "outputs": [
    {
     "name": "stdout",
     "output_type": "stream",
     "text": [
      "The Pearson Correlation Coefficient is 0.8723351674455186  with a P-value of P = 9.265491622197335e-64\n"
     ]
    }
   ],
=======
   "execution_count": null,
   "metadata": {
    "collapsed": false
   },
   "outputs": [],
>>>>>>> d6b5bd050ed7ba736b15c35bb74c4476035c8c84
   "source": [
    "pearson_coef, p_value = stats.pearsonr(df['engine-size'], df['price'])\n",
    "print(\"The Pearson Correlation Coefficient is\", pearson_coef, \" with a P-value of P =\", p_value) "
   ]
  },
  {
   "cell_type": "markdown",
   "metadata": {},
   "source": [
    "<h5>Conclusion:</h5>\n",
    "\n",
    "<p>Since the p-value is $<$ 0.001, the correlation between engine-size and price is statistically significant, and the linear relationship is very strong (~0.872).</p>"
   ]
  },
  {
   "cell_type": "markdown",
   "metadata": {},
   "source": [
    "<h3>Bore vs Price</h3>"
   ]
  },
  {
   "cell_type": "markdown",
   "metadata": {},
   "source": [
    " Let's calculate the  Pearson Correlation Coefficient and P-value of 'bore' and 'price':"
   ]
  },
  {
   "cell_type": "code",
<<<<<<< HEAD
   "execution_count": 46,
   "metadata": {},
   "outputs": [
    {
     "name": "stdout",
     "output_type": "stream",
     "text": [
      "The Pearson Correlation Coefficient is 0.5431553832626602  with a P-value of P =   8.049189483935489e-17\n"
     ]
    }
   ],
=======
   "execution_count": null,
   "metadata": {
    "collapsed": false
   },
   "outputs": [],
>>>>>>> d6b5bd050ed7ba736b15c35bb74c4476035c8c84
   "source": [
    "pearson_coef, p_value = stats.pearsonr(df['bore'], df['price'])\n",
    "print(\"The Pearson Correlation Coefficient is\", pearson_coef, \" with a P-value of P =  \", p_value ) "
   ]
  },
  {
   "cell_type": "markdown",
   "metadata": {},
   "source": [
    "<h5>Conclusion:</h5>\n",
    "<p>Since the p-value is $<$ 0.001, the correlation between bore and price is statistically significant, but the linear relationship is only moderate (~0.521).</p>"
   ]
  },
  {
   "cell_type": "markdown",
   "metadata": {},
   "source": [
    " We can relate the process for each 'City-mpg'  and 'Highway-mpg':"
   ]
  },
  {
   "cell_type": "markdown",
   "metadata": {},
   "source": [
    "<h3>City-mpg vs Price</h3>"
   ]
  },
  {
   "cell_type": "code",
<<<<<<< HEAD
   "execution_count": 48,
   "metadata": {},
   "outputs": [
    {
     "name": "stdout",
     "output_type": "stream",
     "text": [
      "The Pearson Correlation Coefficient is -0.6865710067844677  with a P-value of P =  2.321132065567674e-29\n"
     ]
    }
   ],
=======
   "execution_count": null,
   "metadata": {
    "collapsed": false
   },
   "outputs": [],
>>>>>>> d6b5bd050ed7ba736b15c35bb74c4476035c8c84
   "source": [
    "pearson_coef, p_value = stats.pearsonr(df['city-mpg'], df['price'])\n",
    "print(\"The Pearson Correlation Coefficient is\", pearson_coef, \" with a P-value of P = \", p_value)  "
   ]
  },
  {
   "cell_type": "markdown",
   "metadata": {},
   "source": [
    "<h5>Conclusion:</h5>\n",
    "<p>Since the p-value is $<$ 0.001, the correlation between city-mpg and price is statistically significant, and the coefficient of ~ -0.687 shows that the relationship is negative and moderately strong.</p>"
   ]
  },
  {
   "cell_type": "markdown",
   "metadata": {},
   "source": [
    "<h3>Highway-mpg vs Price</h3>"
   ]
  },
  {
   "cell_type": "code",
<<<<<<< HEAD
   "execution_count": 47,
   "metadata": {},
   "outputs": [
    {
     "name": "stdout",
     "output_type": "stream",
     "text": [
      "The Pearson Correlation Coefficient is -0.704692265058953  with a P-value of P =  1.7495471144476358e-31\n"
     ]
    }
   ],
=======
   "execution_count": null,
   "metadata": {
    "collapsed": false
   },
   "outputs": [],
>>>>>>> d6b5bd050ed7ba736b15c35bb74c4476035c8c84
   "source": [
    "pearson_coef, p_value = stats.pearsonr(df['highway-mpg'], df['price'])\n",
    "print( \"The Pearson Correlation Coefficient is\", pearson_coef, \" with a P-value of P = \", p_value ) "
   ]
  },
  {
   "cell_type": "markdown",
   "metadata": {},
   "source": [
    "##### Conclusion:\n",
    "Since the p-value is < 0.001, the correlation between highway-mpg and price is statistically significant, and the coefficient of ~ -0.705 shows that the relationship is negative and moderately strong."
   ]
  },
  {
   "cell_type": "markdown",
   "metadata": {},
   "source": [
    "<h2 id=\"anova\">6. ANOVA</h2>"
   ]
  },
  {
   "cell_type": "markdown",
   "metadata": {},
   "source": [
    "<h3>ANOVA: Analysis of Variance</h3>\n",
    "<p>The Analysis of Variance  (ANOVA) is a statistical method used to test whether there are significant differences between the means of two or more groups. ANOVA returns two parameters:</p>\n",
    "\n",
    "<p><b>F-test score</b>: ANOVA assumes the means of all groups are the same, calculates how much the actual means deviate from the assumption, and reports it as the F-test score. A larger score means there is a larger difference between the means.</p>\n",
    "\n",
    "<p><b>P-value</b>:  P-value tells how statistically significant is our calculated score value.</p>\n",
    "\n",
    "<p>If our price variable is strongly correlated with the variable we are analyzing, expect ANOVA to return a sizeable F-test score and a small p-value.</p>"
   ]
  },
  {
   "cell_type": "markdown",
   "metadata": {},
   "source": [
    "<h3>Drive Wheels</h3>"
   ]
  },
  {
   "cell_type": "markdown",
   "metadata": {},
   "source": [
    "<p>Since ANOVA analyzes the difference between different groups of the same variable, the groupby function will come in handy. Because the ANOVA algorithm averages the data automatically, we do not need to take the average before hand.</p>\n",
    "\n",
    "<p>Let's see if different types 'drive-wheels' impact  'price', we group the data.</p>"
   ]
  },
  {
   "cell_type": "markdown",
   "metadata": {},
   "source": [
    " Let's see if different types 'drive-wheels' impact  'price', we group the data."
   ]
  },
  {
   "cell_type": "code",
   "execution_count": null,
<<<<<<< HEAD
   "metadata": {},
=======
   "metadata": {
    "collapsed": false
   },
>>>>>>> d6b5bd050ed7ba736b15c35bb74c4476035c8c84
   "outputs": [],
   "source": [
    "grouped_test2=df_gptest[['drive-wheels', 'price']].groupby(['drive-wheels'])\n",
    "grouped_test2.head(2)"
   ]
  },
  {
   "cell_type": "code",
   "execution_count": null,
   "metadata": {},
   "outputs": [],
   "source": [
    "df_gptest"
   ]
  },
  {
   "cell_type": "markdown",
   "metadata": {},
   "source": [
    " We can obtain the values of the method group using the method \"get_group\".  "
   ]
  },
  {
   "cell_type": "code",
   "execution_count": null,
<<<<<<< HEAD
   "metadata": {},
=======
   "metadata": {
    "collapsed": false
   },
>>>>>>> d6b5bd050ed7ba736b15c35bb74c4476035c8c84
   "outputs": [],
   "source": [
    "grouped_test2.get_group('4wd')['price']"
   ]
  },
  {
   "cell_type": "markdown",
   "metadata": {},
   "source": [
    "we can use the function 'f_oneway' in the module 'stats'  to obtain the <b>F-test score</b> and <b>P-value</b>."
   ]
  },
  {
   "cell_type": "code",
   "execution_count": null,
<<<<<<< HEAD
   "metadata": {},
=======
   "metadata": {
    "collapsed": false
   },
>>>>>>> d6b5bd050ed7ba736b15c35bb74c4476035c8c84
   "outputs": [],
   "source": [
    "# ANOVA\n",
    "f_val, p_val = stats.f_oneway(grouped_test2.get_group('fwd')['price'], grouped_test2.get_group('rwd')['price'], grouped_test2.get_group('4wd')['price'])  \n",
    " \n",
    "print( \"ANOVA results: F=\", f_val, \", P =\", p_val)   "
   ]
  },
  {
   "cell_type": "markdown",
   "metadata": {},
   "source": [
    "This is a great result, with a large F test score showing a strong correlation and a P value of almost 0 implying almost certain statistical significance. But does this mean all three tested groups are all this highly correlated? "
   ]
  },
  {
   "cell_type": "markdown",
   "metadata": {},
   "source": [
    "#### Separately: fwd and rwd"
   ]
  },
  {
   "cell_type": "code",
   "execution_count": null,
<<<<<<< HEAD
   "metadata": {},
=======
   "metadata": {
    "collapsed": false
   },
>>>>>>> d6b5bd050ed7ba736b15c35bb74c4476035c8c84
   "outputs": [],
   "source": [
    "f_val, p_val = stats.f_oneway(grouped_test2.get_group('fwd')['price'], grouped_test2.get_group('rwd')['price'])  \n",
    " \n",
    "print( \"ANOVA results: F=\", f_val, \", P =\", p_val )"
   ]
  },
  {
   "cell_type": "markdown",
   "metadata": {},
   "source": [
    " Let's examine the other groups "
   ]
  },
  {
   "cell_type": "markdown",
   "metadata": {},
   "source": [
    "#### 4wd and rwd"
   ]
  },
  {
   "cell_type": "code",
   "execution_count": null,
   "metadata": {
<<<<<<< HEAD
=======
    "collapsed": false,
>>>>>>> d6b5bd050ed7ba736b15c35bb74c4476035c8c84
    "scrolled": true
   },
   "outputs": [],
   "source": [
    "f_val, p_val = stats.f_oneway(grouped_test2.get_group('4wd')['price'], grouped_test2.get_group('rwd')['price'])  \n",
    "   \n",
    "print( \"ANOVA results: F=\", f_val, \", P =\", p_val)   "
   ]
  },
  {
   "cell_type": "markdown",
   "metadata": {},
   "source": [
    "<h4>4wd and fwd</h4>"
   ]
  },
  {
   "cell_type": "code",
   "execution_count": null,
<<<<<<< HEAD
   "metadata": {},
=======
   "metadata": {
    "collapsed": false
   },
>>>>>>> d6b5bd050ed7ba736b15c35bb74c4476035c8c84
   "outputs": [],
   "source": [
    "f_val, p_val = stats.f_oneway(grouped_test2.get_group('4wd')['price'], grouped_test2.get_group('fwd')['price'])  \n",
    " \n",
    "print(\"ANOVA results: F=\", f_val, \", P =\", p_val)   "
   ]
  },
  {
   "cell_type": "markdown",
   "metadata": {},
   "source": [
    "<h3>Conclusion: Important Variables</h3>"
   ]
  },
  {
   "cell_type": "markdown",
   "metadata": {},
   "source": [
    "<p>We now have a better idea of what our data looks like and which variables are important to take into account when predicting the car price. We have narrowed it down to the following variables:</p>\n",
    "\n",
    "Continuous numerical variables:\n",
    "<ul>\n",
    "    <li>Length</li>\n",
    "    <li>Width</li>\n",
    "    <li>Curb-weight</li>\n",
    "    <li>Engine-size</li>\n",
    "    <li>Horsepower</li>\n",
    "    <li>City-mpg</li>\n",
    "    <li>Highway-mpg</li>\n",
    "    <li>Wheel-base</li>\n",
    "    <li>Bore</li>\n",
    "</ul>\n",
    "    \n",
    "Categorical variables:\n",
    "<ul>\n",
    "    <li>Drive-wheels</li>\n",
    "</ul>\n",
    "\n",
    "<p>As we now move into building machine learning models to automate our analysis, feeding the model with variables that meaningfully affect our target variable will improve our model's prediction performance.</p>"
   ]
  },
  {
   "cell_type": "markdown",
   "metadata": {},
   "source": [
    "<h1>Thank you for completing this notebook</h1>"
   ]
  },
  {
   "cell_type": "markdown",
   "metadata": {},
   "source": [
    "<div class=\"alert alert-block alert-info\" style=\"margin-top: 20px\">\n",
    "\n",
    "    <p><a href=\"https://cocl.us/corsera_da0101en_notebook_bottom\"><img src=\"https://s3-api.us-geo.objectstorage.softlayer.net/cf-courses-data/CognitiveClass/DA0101EN/Images/BottomAd.png\" width=\"750\" align=\"center\"></a></p>\n",
    "</div>\n"
   ]
  },
  {
   "cell_type": "markdown",
   "metadata": {},
   "source": [
    "<h3>About the Authors:</h3>\n",
    "\n",
    "This notebook was written by <a href=\"https://www.linkedin.com/in/mahdi-noorian-58219234/\" target=\"_blank\">Mahdi Noorian PhD</a>, <a href=\"https://www.linkedin.com/in/joseph-s-50398b136/\" target=\"_blank\">Joseph Santarcangelo</a>, Bahare Talayian, Eric Xiao, Steven Dong, Parizad, Hima Vsudevan and <a href=\"https://www.linkedin.com/in/fiorellawever/\" target=\"_blank\">Fiorella Wenver</a> and <a href=\" https://www.linkedin.com/in/yi-leng-yao-84451275/ \" target=\"_blank\" >Yi Yao</a>.\n",
    "\n",
    "<p><a href=\"https://www.linkedin.com/in/joseph-s-50398b136/\" target=\"_blank\">Joseph Santarcangelo</a> is a Data Scientist at IBM, and holds a PhD in Electrical Engineering. His research focused on using Machine Learning, Signal Processing, and Computer Vision to determine how videos impact human cognition. Joseph has been working for IBM since he completed his PhD.</p>"
   ]
  },
  {
   "cell_type": "markdown",
   "metadata": {},
   "source": [
    "<hr>\n",
    "<p>Copyright &copy; 2018 IBM Developer Skills Network. This notebook and its source code are released under the terms of the <a href=\"https://cognitiveclass.ai/mit-license/\">MIT License</a>.</p>"
   ]
  }
 ],
 "metadata": {
  "anaconda-cloud": {},
  "kernelspec": {
   "display_name": "Python 3",
   "language": "python",
   "name": "python3"
  },
  "language_info": {
   "codemirror_mode": {
    "name": "ipython",
    "version": 3
   },
   "file_extension": ".py",
   "mimetype": "text/x-python",
   "name": "python",
   "nbconvert_exporter": "python",
   "pygments_lexer": "ipython3",
<<<<<<< HEAD
   "version": "3.7.6"
=======
   "version": "3.6.7"
>>>>>>> d6b5bd050ed7ba736b15c35bb74c4476035c8c84
  }
 },
 "nbformat": 4,
 "nbformat_minor": 2
}
